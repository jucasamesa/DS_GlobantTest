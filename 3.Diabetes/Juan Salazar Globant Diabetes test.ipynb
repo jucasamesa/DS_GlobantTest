{
 "cells": [
  {
   "cell_type": "markdown",
   "metadata": {},
   "source": [
    "<h1><center><font size=\"6\">Globant Diabetes Test Description</font></center></h1>\n",
    "\n",
    "## Problem Statement\n",
    "\n",
    "In this dataset you have 3 different outputs:\n",
    "1. No readmission;\n",
    "2. A readmission in less than 30 days (this situation is not good, because maybe\n",
    "your treatment was not appropriate);\n",
    "3. A readmission in more than 30 days (this one is not so good as well the last\n",
    "one, however, the reason could be the state of the patient.\n",
    "\n",
    "Your task is either to classify a patient-hospital outcome or to cluster them aiming at\n",
    "finding patterns that give a distinct insight.\n",
    "To do so, we suggest you create a notebook, like Jupyter (if you use python) or a\n",
    "Rmarkdown report (in case you use R) and make it available for us, i.e. github.\n",
    "Hint to success in your quest: Develop and stay clear of the data science process you'll\n",
    "perform over the dataset and highlight important aspects you might consider affordable\n",
    "to discuss over.\n",
    "You have up to a day before the technical interview to share your results of this test.\n",
    "Good luck."
   ]
  },
  {
   "cell_type": "markdown",
   "metadata": {},
   "source": [
    "# <a id='0'>Table of Contents</a>\n",
    "\n",
    "1. [Data set description](#setup1)<br>\n",
    "2. [Data Exploration](#explore)<br>\n",
    "    2.1 [Exploratory Data Analysis (EDA)](#explore1)<br>\n",
    "    2.2 [Feature Engineering: Grouping](#explore2)<br>\n",
    "    2.3 [Feature Engineering: Encoding](#explore3)<br>\n",
    "    2.4 [Principal Component Analysis](#explore4)<br>\n",
    "3. [Modeling](#modeling)<br>\n",
    "4. [Conclusions](#con)<br>\n",
    "5. [Additional: Clustering](#cluster)<br>"
   ]
  },
  {
   "cell_type": "markdown",
   "metadata": {},
   "source": [
    "### 1. Data set description <a id=\"setup1\"></a>\n",
    "\n",
    "The data set has records from 130 US hospitals in a time span of 10 years from 1999 to 2008. It has been prepared to analyze factors related to readmission as well as other outcomes pertaining to patients with diabetes. It includes over 50 features representing patient and hospital outcomes.\n",
    "\n",
    "The [data](https://archive.ics.uci.edu/ml/datasets/Diabetes+130-US+hospitals+for+years+1999-2008#) are submitted on behalf of the Center for Clinical and Translational Research, Virginia Commonwealth University, a recipient of NIH CTSA grant UL1 TR00058 and a recipient of the CERNER data. John Clore (jclore '@' vcu.edu), Krzysztof J. Cios (kcios '@' vcu.edu), Jon DeShazo (jpdeshazo '@' vcu.edu), and Beata Strack (strackb '@' vcu.edu). This data is a de-identified abstract of the Health Facts database (Cerner Corporation, Kansas City, MO).\n",
    "\n",
    "Information was extracted from the database for encounters that satisfied the following criteria.\n",
    "* It is an inpatient encounter (a hospital admission).\n",
    "* It is a diabetic encounter, that is, one during which any kind of diabetes was entered to the system as a diagnosis.\n",
    "* The length of stay was at least 1 day and at most 14 days.\n",
    "* Laboratory tests were performed during the encounter.\n",
    "* Medications were administered during the encounter."
   ]
  },
  {
   "cell_type": "markdown",
   "metadata": {},
   "source": [
    "### 1.1. Feature description\n",
    "\n",
    "The data contains such attributes as patient number, race, gender, age, admission type, time in hospital, medical specialty of admitting physician, number of lab test performed, HbA1c test result, diagnosis, number of medication, diabetic medications, number of outpatient, inpatient, and emergency visits in the year before the hospitalization, etc.\n",
    "\n",
    "Detail description in Table 1 of the paper [Impact of HbA1c Measurement on Hospital Readmission Rates](https://www.hindawi.com/journals/bmri/2014/781670/)."
   ]
  },
  {
   "cell_type": "markdown",
   "metadata": {},
   "source": [
    "<center><b>Table 1</b></center>\n",
    "\n",
    "<img src=\"data/images/features1.png\" alt=\"Drawing\" style=\"width: 800px;\"/>\n",
    "<img src=\"data/images/features2.png\" alt=\"Drawing\" style=\"width: 800px;\"/>"
   ]
  },
  {
   "cell_type": "markdown",
   "metadata": {},
   "source": [
    "### 1.2. Paper conlusions\n",
    "\n",
    "Multivariable logistic regression was used to fit the relationship between the measurement of HbA1c and early readmission while controlling for covariates such as demographics, severity and type of the disease, and type of admission. Results show that the measurement of HbA1c was performed infrequently (18.4%) in the inpatient setting. The statistical model suggests that the relationship between the probability of readmission and the HbA1c measurement depends on the primary diagnosis. The data suggest further that the greater attention to diabetes reflected in HbA1c determination may improve patient outcomes and lower cost of inpatient care."
   ]
  },
  {
   "cell_type": "markdown",
   "metadata": {},
   "source": [
    "<a href=\"#0\"><font size=\"1\">Back to contents</font></a>\n",
    "\n",
    "### 2. Data Exploration<a id=\"explore\"></a>"
   ]
  },
  {
   "cell_type": "code",
   "execution_count": 1,
   "metadata": {},
   "outputs": [],
   "source": [
    "# Impor the libraries needed for the project\n",
    "import pandas as pd # data frame management\n",
    "import numpy as np # matrix management\n",
    "import matplotlib.pyplot as plt # visualization\n",
    "import seaborn as sns # stylize visualizations\n",
    "import os # file management"
   ]
  },
  {
   "cell_type": "code",
   "execution_count": 2,
   "metadata": {},
   "outputs": [],
   "source": [
    "# Deactivate scientific notation\n",
    "pd.set_option('display.float_format', lambda x: '%.0f' % x)"
   ]
  },
  {
   "cell_type": "code",
   "execution_count": 3,
   "metadata": {},
   "outputs": [],
   "source": [
    "# Increase the number of rows and column that can be printed\n",
    "pd.set_option('display.max_rows', 500)\n",
    "pd.set_option('display.max_columns', 500)\n",
    "pd.set_option('display.width', 1000)"
   ]
  },
  {
   "cell_type": "code",
   "execution_count": 4,
   "metadata": {},
   "outputs": [],
   "source": [
    "path_to_files = \"./data/dataset_diabetes/\"\n",
    "list_of_files = os.listdir(path_to_files)"
   ]
  },
  {
   "cell_type": "code",
   "execution_count": 5,
   "metadata": {},
   "outputs": [
    {
     "data": {
      "text/plain": [
       "['diabetic_data.csv', 'IDs_mapping.csv']"
      ]
     },
     "execution_count": 5,
     "metadata": {},
     "output_type": "execute_result"
    }
   ],
   "source": [
    "list_of_files"
   ]
  },
  {
   "cell_type": "code",
   "execution_count": 6,
   "metadata": {},
   "outputs": [],
   "source": [
    "df1 = pd.read_csv(os.path.join(path_to_files,list_of_files[0]),\n",
    "                 dtype={'admission_type_id':str}) # Read file 1 with 'admission_type_id' as categorical for future merge\n",
    "df2 = pd.read_csv(os.path.join(path_to_files,list_of_files[1])) # read file 2"
   ]
  },
  {
   "cell_type": "code",
   "execution_count": 7,
   "metadata": {},
   "outputs": [
    {
     "name": "stdout",
     "output_type": "stream",
     "text": [
      "diabetic_data rows and columns: (101766, 50)\n",
      "IDs_mapping rows and columns: (67, 2)\n"
     ]
    }
   ],
   "source": [
    "# Diabetic dataset dimensions, more than 100k records and 50 features\n",
    "print(f\"diabetic_data rows and columns: {df1.shape}\")\n",
    "print(f\"IDs_mapping rows and columns: {df2.shape}\")"
   ]
  },
  {
   "cell_type": "code",
   "execution_count": 8,
   "metadata": {},
   "outputs": [
    {
     "name": "stdout",
     "output_type": "stream",
     "text": [
      "diabetic_data missing values count: 0\n",
      "IDs_mapping missing values count: 7\n"
     ]
    }
   ],
   "source": [
    "print(f\"diabetic_data missing values count: {df1.isna().sum().sum()}\")\n",
    "print(f\"IDs_mapping missing values count: {df2.isna().sum().sum()}\") "
   ]
  },
  {
   "cell_type": "markdown",
   "metadata": {},
   "source": [
    "At first glance there are no missing values in the diabetic_data due to the fact the data set has been already prepared (later on we found out that the missing values are replaced by the symbol \"?\"). On the other hand the dataset IDs_mapping has 7 missing values but the number of admisison types in this set is greater than the number of admission types in the diabetic_data (rate of 32 to 8), so it is possible that after joining the tables it would not be missing descriptions. "
   ]
  },
  {
   "cell_type": "code",
   "execution_count": 9,
   "metadata": {},
   "outputs": [
    {
     "name": "stdout",
     "output_type": "stream",
     "text": [
      "diabetic_data with admission type descriptions, rows and columns: (101766, 51)\n"
     ]
    }
   ],
   "source": [
    "df= df1.merge(df2.drop_duplicates(subset=['admission_type_id']),how='left',on='admission_type_id') #Merging both data frames\n",
    "print(f\"diabetic_data with admission type descriptions, rows and columns: {df.shape}\")"
   ]
  },
  {
   "cell_type": "code",
   "execution_count": 10,
   "metadata": {},
   "outputs": [
    {
     "data": {
      "text/plain": [
       "Emergency        53990\n",
       "Elective         18869\n",
       "Urgent           18480\n",
       "Not Available     4785\n",
       "Not Mapped         320\n",
       "Trauma Center       21\n",
       "Newborn             10\n",
       "Name: description, dtype: int64"
      ]
     },
     "execution_count": 10,
     "metadata": {},
     "output_type": "execute_result"
    }
   ],
   "source": [
    "df['description'].value_counts() # Admission type descriptions"
   ]
  },
  {
   "cell_type": "markdown",
   "metadata": {},
   "source": [
    "There are no missing values after joining both sets. The set called \"df\" will be used in the exploratory data analysis."
   ]
  },
  {
   "cell_type": "markdown",
   "metadata": {},
   "source": [
    "<a href=\"#0\"><font size=\"1\">Back to contents</font></a>\n",
    "\n",
    "### 2.1. Exploratory Data Analysis (EDA)<a id=\"explore1\"></a>"
   ]
  },
  {
   "cell_type": "markdown",
   "metadata": {},
   "source": [
    "There are 51 features in the data set, so the approach to analyze the data is dividing the features in two groups: numeric and non numeric."
   ]
  },
  {
   "cell_type": "markdown",
   "metadata": {},
   "source": [
    "* Numeric features"
   ]
  },
  {
   "cell_type": "code",
   "execution_count": 11,
   "metadata": {},
   "outputs": [
    {
     "data": {
      "text/html": [
       "<div>\n",
       "<style scoped>\n",
       "    .dataframe tbody tr th:only-of-type {\n",
       "        vertical-align: middle;\n",
       "    }\n",
       "\n",
       "    .dataframe tbody tr th {\n",
       "        vertical-align: top;\n",
       "    }\n",
       "\n",
       "    .dataframe thead th {\n",
       "        text-align: right;\n",
       "    }\n",
       "</style>\n",
       "<table border=\"1\" class=\"dataframe\">\n",
       "  <thead>\n",
       "    <tr style=\"text-align: right;\">\n",
       "      <th></th>\n",
       "      <th>count</th>\n",
       "      <th>mean</th>\n",
       "      <th>std</th>\n",
       "      <th>min</th>\n",
       "      <th>25%</th>\n",
       "      <th>50%</th>\n",
       "      <th>75%</th>\n",
       "      <th>max</th>\n",
       "    </tr>\n",
       "  </thead>\n",
       "  <tbody>\n",
       "    <tr>\n",
       "      <th>encounter_id</th>\n",
       "      <td>101766</td>\n",
       "      <td>165201646</td>\n",
       "      <td>102640296</td>\n",
       "      <td>12522</td>\n",
       "      <td>84961194</td>\n",
       "      <td>152388987</td>\n",
       "      <td>230270888</td>\n",
       "      <td>443867222</td>\n",
       "    </tr>\n",
       "    <tr>\n",
       "      <th>patient_nbr</th>\n",
       "      <td>101766</td>\n",
       "      <td>54330401</td>\n",
       "      <td>38696359</td>\n",
       "      <td>135</td>\n",
       "      <td>23413221</td>\n",
       "      <td>45505143</td>\n",
       "      <td>87545950</td>\n",
       "      <td>189502619</td>\n",
       "    </tr>\n",
       "    <tr>\n",
       "      <th>discharge_disposition_id</th>\n",
       "      <td>101766</td>\n",
       "      <td>4</td>\n",
       "      <td>5</td>\n",
       "      <td>1</td>\n",
       "      <td>1</td>\n",
       "      <td>1</td>\n",
       "      <td>4</td>\n",
       "      <td>28</td>\n",
       "    </tr>\n",
       "    <tr>\n",
       "      <th>admission_source_id</th>\n",
       "      <td>101766</td>\n",
       "      <td>6</td>\n",
       "      <td>4</td>\n",
       "      <td>1</td>\n",
       "      <td>1</td>\n",
       "      <td>7</td>\n",
       "      <td>7</td>\n",
       "      <td>25</td>\n",
       "    </tr>\n",
       "    <tr>\n",
       "      <th>time_in_hospital</th>\n",
       "      <td>101766</td>\n",
       "      <td>4</td>\n",
       "      <td>3</td>\n",
       "      <td>1</td>\n",
       "      <td>2</td>\n",
       "      <td>4</td>\n",
       "      <td>6</td>\n",
       "      <td>14</td>\n",
       "    </tr>\n",
       "    <tr>\n",
       "      <th>num_lab_procedures</th>\n",
       "      <td>101766</td>\n",
       "      <td>43</td>\n",
       "      <td>20</td>\n",
       "      <td>1</td>\n",
       "      <td>31</td>\n",
       "      <td>44</td>\n",
       "      <td>57</td>\n",
       "      <td>132</td>\n",
       "    </tr>\n",
       "    <tr>\n",
       "      <th>num_procedures</th>\n",
       "      <td>101766</td>\n",
       "      <td>1</td>\n",
       "      <td>2</td>\n",
       "      <td>0</td>\n",
       "      <td>0</td>\n",
       "      <td>1</td>\n",
       "      <td>2</td>\n",
       "      <td>6</td>\n",
       "    </tr>\n",
       "    <tr>\n",
       "      <th>num_medications</th>\n",
       "      <td>101766</td>\n",
       "      <td>16</td>\n",
       "      <td>8</td>\n",
       "      <td>1</td>\n",
       "      <td>10</td>\n",
       "      <td>15</td>\n",
       "      <td>20</td>\n",
       "      <td>81</td>\n",
       "    </tr>\n",
       "    <tr>\n",
       "      <th>number_outpatient</th>\n",
       "      <td>101766</td>\n",
       "      <td>0</td>\n",
       "      <td>1</td>\n",
       "      <td>0</td>\n",
       "      <td>0</td>\n",
       "      <td>0</td>\n",
       "      <td>0</td>\n",
       "      <td>42</td>\n",
       "    </tr>\n",
       "    <tr>\n",
       "      <th>number_emergency</th>\n",
       "      <td>101766</td>\n",
       "      <td>0</td>\n",
       "      <td>1</td>\n",
       "      <td>0</td>\n",
       "      <td>0</td>\n",
       "      <td>0</td>\n",
       "      <td>0</td>\n",
       "      <td>76</td>\n",
       "    </tr>\n",
       "    <tr>\n",
       "      <th>number_inpatient</th>\n",
       "      <td>101766</td>\n",
       "      <td>1</td>\n",
       "      <td>1</td>\n",
       "      <td>0</td>\n",
       "      <td>0</td>\n",
       "      <td>0</td>\n",
       "      <td>1</td>\n",
       "      <td>21</td>\n",
       "    </tr>\n",
       "    <tr>\n",
       "      <th>number_diagnoses</th>\n",
       "      <td>101766</td>\n",
       "      <td>7</td>\n",
       "      <td>2</td>\n",
       "      <td>1</td>\n",
       "      <td>6</td>\n",
       "      <td>8</td>\n",
       "      <td>9</td>\n",
       "      <td>16</td>\n",
       "    </tr>\n",
       "  </tbody>\n",
       "</table>\n",
       "</div>"
      ],
      "text/plain": [
       "                          count      mean       std   min      25%       50%       75%       max\n",
       "encounter_id             101766 165201646 102640296 12522 84961194 152388987 230270888 443867222\n",
       "patient_nbr              101766  54330401  38696359   135 23413221  45505143  87545950 189502619\n",
       "discharge_disposition_id 101766         4         5     1        1         1         4        28\n",
       "admission_source_id      101766         6         4     1        1         7         7        25\n",
       "time_in_hospital         101766         4         3     1        2         4         6        14\n",
       "num_lab_procedures       101766        43        20     1       31        44        57       132\n",
       "num_procedures           101766         1         2     0        0         1         2         6\n",
       "num_medications          101766        16         8     1       10        15        20        81\n",
       "number_outpatient        101766         0         1     0        0         0         0        42\n",
       "number_emergency         101766         0         1     0        0         0         0        76\n",
       "number_inpatient         101766         1         1     0        0         0         1        21\n",
       "number_diagnoses         101766         7         2     1        6         8         9        16"
      ]
     },
     "execution_count": 11,
     "metadata": {},
     "output_type": "execute_result"
    }
   ],
   "source": [
    "# Let us extract only the numerical features\n",
    "# Admission type, discharge disposition and admission source were nominal in table 1 but are numerical in this sample\n",
    "numerics = ['int16', 'int32', 'int64', 'float16', 'float32', 'float64']\n",
    "data_numerics = df.select_dtypes(include=numerics)\n",
    "num_cols = data_numerics.keys().tolist() # Numeric columns\n",
    "df[num_cols].describe().transpose() # Describe the numerical columns statistics"
   ]
  },
  {
   "cell_type": "code",
   "execution_count": 12,
   "metadata": {},
   "outputs": [
    {
     "data": {
      "text/plain": [
       "encounter_id                101766\n",
       "patient_nbr                  71518\n",
       "discharge_disposition_id        26\n",
       "admission_source_id             17\n",
       "time_in_hospital                14\n",
       "num_lab_procedures             118\n",
       "num_procedures                   7\n",
       "num_medications                 75\n",
       "number_outpatient               39\n",
       "number_emergency                33\n",
       "number_inpatient                21\n",
       "number_diagnoses                16\n",
       "dtype: int64"
      ]
     },
     "execution_count": 12,
     "metadata": {},
     "output_type": "execute_result"
    }
   ],
   "source": [
    "df[num_cols].nunique() # Number of unique values per numeric column "
   ]
  },
  {
   "cell_type": "markdown",
   "metadata": {},
   "source": [
    "With describe and nunique we discover that Encounter id works as the primary key and on the other hand, patient number it is repeated in some cases, this was mentioned in the article (\"Almost 70,000 inpatient diabetes encounters were identified with sufficient detail for analysis\"-[Impact of HbA1c Measurement on Hospital Readmission Rates](https://www.hindawi.com/journals/bmri/2014/781670/)).\n",
    "\n",
    "Additionally, 'discharge disposition id' is a categorical variable and has 3 categories missing if we compare to Table 1. Also 1 admission type and 5 admission source categories are missing comparing to the Table 1. \n",
    "\n",
    "So we can state that the sample taken from the 70k inpatient encounters it is not stratified, does not meet the same characteristics represented in the Table 1. \n",
    "\n",
    "It is necessary to plot these variables to see the distribution of the categories in the sample:"
   ]
  },
  {
   "cell_type": "code",
   "execution_count": 13,
   "metadata": {},
   "outputs": [
    {
     "data": {
      "image/png": "[encoded data removed]",
      "text/plain": [
       "<Figure size 1080x504 with 2 Axes>"
      ]
     },
     "metadata": {
      "needs_background": "light"
     },
     "output_type": "display_data"
    }
   ],
   "source": [
    "plt.figure(figsize=(15,7))\n",
    "for i, var in enumerate(['discharge_disposition_id','admission_source_id']):\n",
    "    plt.subplot(2,1,i+1)\n",
    "    sns.countplot(x=var,data=df) # ,hue='readmitted')\n",
    "    plt.xlabel(\"Count\")\n",
    "    plt.title(f\"{var} count plot\") \n",
    "plt.tight_layout()\n",
    "plt.show()"
   ]
  },
  {
   "cell_type": "markdown",
   "metadata": {},
   "source": [
    "The data is not balance, the majority of the data corresponds to 1 category. For 'discharge disposition' the type 1 has 60k records, this is more than half of the records in the data set. Also, 'admission source' has the category 7 close to 60k records and the category 1 close to 30k records, both categories represent more than 90% of the encounters."
   ]
  },
  {
   "cell_type": "markdown",
   "metadata": {},
   "source": [
    "* Non-numeric columns"
   ]
  },
  {
   "cell_type": "code",
   "execution_count": 14,
   "metadata": {},
   "outputs": [],
   "source": [
    "# Non numeric columns\n",
    "non_numeric_cols = [element for element in df.keys().tolist() if element not in data_numerics.keys().tolist()]"
   ]
  },
  {
   "cell_type": "markdown",
   "metadata": {},
   "source": [
    "* Demographic - Race, Gender, Age\n",
    "* Weight - Weight in pounds as ranges and mostly all of the records in the sample have unknown weight\n",
    "* Payer code, medical speciality\n",
    "* Diagnosis - diag_1: 848 distinct values, diag_2: 923 distinct values and diag_3: 954 distinct values - **Values from Table 1**\n",
    "* Lab tests - max_glu_serum, A1Cresult\n",
    "* Medicines - From metformin, repaglinide, ... metformin-rosiglitazone, metformin-pioglitazone\n",
    "* Change - Binary feature - Indicates change in diabetic medications (either dosage or generic name)\n",
    "* diabetesMed - Y/N if any diabetic medication was prescribed\n",
    "* readmitted - Days to inpatient readmission - “No” for no record of readmission"
   ]
  },
  {
   "cell_type": "markdown",
   "metadata": {},
   "source": [
    "#### Age, race, gender and weight"
   ]
  },
  {
   "cell_type": "code",
   "execution_count": 15,
   "metadata": {},
   "outputs": [
    {
     "data": {
      "image/png": "[encoded data removed]",
      "text/plain": [
       "<Figure size 1080x504 with 1 Axes>"
      ]
     },
     "metadata": {
      "needs_background": "light"
     },
     "output_type": "display_data"
    }
   ],
   "source": [
    "# Age count plot with readmitted labels\n",
    "plt.figure(figsize=(15,7))\n",
    "sns.countplot(x='age',data=df, hue='readmitted')\n",
    "plt.xlabel(\"Count\")\n",
    "plt.title(f\"Age count plot\") \n",
    "plt.show()"
   ]
  },
  {
   "cell_type": "markdown",
   "metadata": {},
   "source": [
    "We can see firstable that the age variable is not continuous and it is divided by groups. Secondly, that the distribution of the readmitted variable it is similar in all the age groups. And finally the distribution of the age in general it is skewed to the left, this could be explained by the fact that the amount of persons with diabetes it is greater as it goes older."
   ]
  },
  {
   "cell_type": "code",
   "execution_count": 16,
   "metadata": {},
   "outputs": [
    {
     "data": {
      "image/png": "[encoded data removed]",
      "text/plain": [
       "<Figure size 1080x360 with 3 Axes>"
      ]
     },
     "metadata": {
      "needs_background": "light"
     },
     "output_type": "display_data"
    }
   ],
   "source": [
    "plt.figure(figsize=(15,5))\n",
    "vars_to_plot= ['race','gender','weight']\n",
    "for i, var in enumerate(vars_to_plot):\n",
    "    plt.subplot(1,3,i+1)\n",
    "    sns.countplot(y=var,data=df) # ,hue='readmitted'\n",
    "    plt.xlabel(\"Count\")\n",
    "    plt.title(f\"{var} count plot\") \n",
    "plt.tight_layout()\n",
    "plt.show()"
   ]
  },
  {
   "cell_type": "markdown",
   "metadata": {},
   "source": [
    "Firstable, looking the race variable, there are more than 70k records associated to caucasian people and the other large group are the african americans close to 20k records. So both groups represent more than 90% of the data.\n",
    "\n",
    "On the other hand, the distribution of the data analyzed by sex for inpatients with diabetes it is larger for females than males, and the records saved as unknown or invalid are lower than the 1%. \n",
    "\n",
    "Finally, unfortunately the weight variable that is known by medics to be correlated to diabetes it is really incomplete (More than 90% of the encounters have no recorded weight range).  "
   ]
  },
  {
   "cell_type": "code",
   "execution_count": 17,
   "metadata": {},
   "outputs": [
    {
     "data": {
      "text/plain": [
       "[75-100)     1336\n",
       "[50-75)       897\n",
       "[100-125)     625\n",
       "[125-150)     145\n",
       "[25-50)        97\n",
       "[0-25)         48\n",
       "[150-175)      35\n",
       "[175-200)      11\n",
       ">200            3\n",
       "Name: weight, dtype: int64"
      ]
     },
     "execution_count": 17,
     "metadata": {},
     "output_type": "execute_result"
    }
   ],
   "source": [
    "# Distribution of weight ranges without the unknowns \n",
    "df[df['weight']!='?']['weight'].value_counts()"
   ]
  },
  {
   "cell_type": "markdown",
   "metadata": {},
   "source": [
    "#### Medical specialties and payer code"
   ]
  },
  {
   "cell_type": "code",
   "execution_count": 18,
   "metadata": {},
   "outputs": [
    {
     "data": {
      "text/plain": [
       "39.5574160328597"
      ]
     },
     "execution_count": 18,
     "metadata": {},
     "output_type": "execute_result"
    }
   ],
   "source": [
    "# Percentage of missing values for payer code\n",
    "df[df['payer_code']==\"?\"].shape[0]*100/df.shape[0]"
   ]
  },
  {
   "cell_type": "code",
   "execution_count": 19,
   "metadata": {},
   "outputs": [
    {
     "data": {
      "text/plain": [
       "49.08220820313268"
      ]
     },
     "execution_count": 19,
     "metadata": {},
     "output_type": "execute_result"
    }
   ],
   "source": [
    "# Percentage of missing values for medical specialty\n",
    "df[df['medical_specialty']==\"?\"].shape[0]*100/df.shape[0]"
   ]
  },
  {
   "cell_type": "markdown",
   "metadata": {},
   "source": [
    "Medical specialty has almost 50% of missing data and on the other hand, payer code has almost 40%. Due to the fact these variables are categorical and have a large number of categories, use imputation methods after encoding would not be recommended. These variables could be used after removing the missing data and working with less than 50% of the data frame if needed. "
   ]
  },
  {
   "cell_type": "code",
   "execution_count": 20,
   "metadata": {},
   "outputs": [
    {
     "data": {
      "text/plain": [
       "16.070200263349253"
      ]
     },
     "execution_count": 20,
     "metadata": {},
     "output_type": "execute_result"
    }
   ],
   "source": [
    "df[(df['medical_specialty']==\"?\")&(df['payer_code']==\"?\")].shape[0]*100/df.shape[0]"
   ]
  },
  {
   "cell_type": "markdown",
   "metadata": {},
   "source": [
    "The percentage calculated before (16%), represent the data that have both features missing so there is not a great relationship in the missing information from those to variables. If we need to use them we should use them 1 at a time, in order to lose the least amount of data. "
   ]
  },
  {
   "cell_type": "code",
   "execution_count": 21,
   "metadata": {},
   "outputs": [
    {
     "data": {
      "text/plain": [
       "['Pediatrics-Endocrinology', 'Endocrinology', 'Endocrinology-Metabolism']"
      ]
     },
     "execution_count": 21,
     "metadata": {},
     "output_type": "execute_result"
    }
   ],
   "source": [
    "# Looking for specialties related to diabetes\n",
    "specialties = pd.Series(df['medical_specialty'].unique())\n",
    "diabetes_specialties= specialties[(specialties.str.contains(\"Endo\")==True)|(specialties.str.contains(\"Diet\")==True)].values.tolist()\n",
    "diabetes_specialties"
   ]
  },
  {
   "cell_type": "code",
   "execution_count": 22,
   "metadata": {},
   "outputs": [],
   "source": [
    "# Function to determine if a record has a medical specialty related to diabetes \n",
    "def comparisson_diabetes_specialties(row):\n",
    "    try:\n",
    "        for i in diabetes_specialties:\n",
    "            if i in row:\n",
    "                a=1\n",
    "                break\n",
    "            else:\n",
    "                a=0\n",
    "        return int(a)\n",
    "    \n",
    "    except:\n",
    "        a=np.nan\n",
    "        return a"
   ]
  },
  {
   "cell_type": "code",
   "execution_count": 23,
   "metadata": {},
   "outputs": [
    {
     "data": {
      "text/plain": [
       "0    101479\n",
       "1       287\n",
       "Name: medical_specialty, dtype: int64"
      ]
     },
     "execution_count": 23,
     "metadata": {},
     "output_type": "execute_result"
    }
   ],
   "source": [
    "df['medical_specialty'].apply(comparisson_diabetes_specialties).value_counts()"
   ]
  },
  {
   "cell_type": "markdown",
   "metadata": {},
   "source": [
    "The last value counts shows that the diabetes specialties selected are related to only 287 encounters."
   ]
  },
  {
   "cell_type": "markdown",
   "metadata": {},
   "source": [
    "#### Laboratory tests"
   ]
  },
  {
   "cell_type": "code",
   "execution_count": 24,
   "metadata": {},
   "outputs": [
    {
     "data": {
      "image/png": "[encoded data removed]",
      "text/plain": [
       "<Figure size 1080x360 with 2 Axes>"
      ]
     },
     "metadata": {
      "needs_background": "light"
     },
     "output_type": "display_data"
    }
   ],
   "source": [
    "plt.figure(figsize=(15,5))\n",
    "tests= ['max_glu_serum','A1Cresult']\n",
    "for i, var in enumerate(tests):\n",
    "    plt.subplot(1,2,i+1)\n",
    "    sns.countplot(x=var,data=df,hue='readmitted')\n",
    "    plt.ylabel(\"Count\")\n",
    "    plt.title(f\"{var} count plot\") \n",
    "plt.tight_layout()\n",
    "plt.show()"
   ]
  },
  {
   "cell_type": "markdown",
   "metadata": {},
   "source": [
    "* Random plasma glucose test\n",
    "\n",
    "It is consider a normal value below 11.1 mmol/L or in other unit below 200 mg/dL ([link](https://dtc.ucsf.edu/types-of-diabetes/type2/understanding-type-2-diabetes/basic-facts/diagnosing-diabetes/)) "
   ]
  },
  {
   "cell_type": "code",
   "execution_count": 25,
   "metadata": {},
   "outputs": [
    {
     "data": {
      "text/plain": [
       "None    96420\n",
       "Norm     2597\n",
       ">200     1485\n",
       ">300     1264\n",
       "Name: max_glu_serum, dtype: int64"
      ]
     },
     "execution_count": 25,
     "metadata": {},
     "output_type": "execute_result"
    }
   ],
   "source": [
    "df['max_glu_serum'].value_counts()"
   ]
  },
  {
   "cell_type": "markdown",
   "metadata": {},
   "source": [
    "The greater amount of encounters didn't take the random plasma glucose test. The second value with the larger frequency is the normal range or below 200, follow by '>200' and finally '>300'. "
   ]
  },
  {
   "cell_type": "markdown",
   "metadata": {},
   "source": [
    "* HbA1c\n",
    "\n",
    "Hemoglobin A1C: Glycated hemoglobin is a form of hemoglobin that is chemically linked to a sugar.\n",
    "\n",
    "The second test measures HbA1c (Hemoglobin A1C). This is your average blood glucose (sugar) levels for the last two to three months. \n",
    "\n",
    "The normal range for HbA1c is 4 – 5.6% (20 – 38 mmol/mol) in healthy people; values between 5.7% and 6.4% (39 – 46 mmol/mol) point to prediabetes, while HbA1c over 6.5% (47 mmol/mol) may indicate diabetes ([link](https://labs.selfdecode.com/blog/hba1c-what-is-it-and-why-is-it-important/))."
   ]
  },
  {
   "cell_type": "code",
   "execution_count": 26,
   "metadata": {},
   "outputs": [
    {
     "data": {
      "text/plain": [
       "None    84748\n",
       ">8       8216\n",
       "Norm     4990\n",
       ">7       3812\n",
       "Name: A1Cresult, dtype: int64"
      ]
     },
     "execution_count": 26,
     "metadata": {},
     "output_type": "execute_result"
    }
   ],
   "source": [
    "df['A1Cresult'].value_counts()"
   ]
  },
  {
   "cell_type": "markdown",
   "metadata": {},
   "source": [
    "The greater amount of encounters didn't take the hemoglobin A1C test. Surprisingly the second value with the greater amount of frequency is greater to 8%, a very high value. "
   ]
  },
  {
   "cell_type": "markdown",
   "metadata": {},
   "source": [
    "#### Medicines related to diabetes "
   ]
  },
  {
   "cell_type": "code",
   "execution_count": 27,
   "metadata": {},
   "outputs": [],
   "source": [
    "# List of column names with medicines related to diabetes\n",
    "meds = ['metformin','repaglinide','nateglinide','chlorpropamide','glimepiride','acetohexamide','glipizide','glyburide',\n",
    "        'tolbutamide','pioglitazone','rosiglitazone','acarbose','miglitol','troglitazone','tolazamide','examide',\n",
    "        'citoglipton','insulin','glyburide-metformin','glipizide-metformin','glimepiride-pioglitazone',\n",
    "        'metformin-rosiglitazone','metformin-pioglitazone']"
   ]
  },
  {
   "cell_type": "code",
   "execution_count": 28,
   "metadata": {},
   "outputs": [
    {
     "data": {
      "image/png": "[encoded data removed]",
      "text/plain": [
       "<Figure size 1440x2880 with 23 Axes>"
      ]
     },
     "metadata": {
      "needs_background": "light"
     },
     "output_type": "display_data"
    }
   ],
   "source": [
    "plt.figure(figsize=(20,40))\n",
    "for i, var in enumerate(meds):\n",
    "    plt.subplot(8,4,i+1)\n",
    "    sns.countplot(x=var,data=df) # ,hue='readmitted'\n",
    "    plt.xlabel(\"Count\")\n",
    "    plt.title(f\"{var} count plot\") \n",
    "plt.tight_layout()\n",
    "plt.show()"
   ]
  },
  {
   "cell_type": "markdown",
   "metadata": {},
   "source": [
    "Examide and citoglipton are not consumed by any patient (constant features for all sample). \n",
    "Aditionally there are 6 medicines with two categories: \"No\" and \"Stedy\", and almost all the records are \"No\". So it is important to review if the distribution of the target variable changes for those categories. "
   ]
  },
  {
   "cell_type": "code",
   "execution_count": 29,
   "metadata": {},
   "outputs": [],
   "source": [
    "# Activate 2 float numbers\n",
    "pd.set_option('display.float_format', lambda x: '%.2f' % x)"
   ]
  },
  {
   "cell_type": "code",
   "execution_count": 30,
   "metadata": {},
   "outputs": [],
   "source": [
    "# Crosstab analysis\n",
    "def cross_tab(df,var):\n",
    "    \n",
    "    cross_df= pd.crosstab(index= df['readmitted'],columns= df[var], margins=True)\n",
    "    cross_df['No(%)']= cross_df['No']*100/cross_df['No'][3]\n",
    "    cross_df['Steady(%)']= cross_df['Steady']*100/cross_df['Steady'][3]\n",
    "    print(cross_df)"
   ]
  },
  {
   "cell_type": "code",
   "execution_count": 31,
   "metadata": {},
   "outputs": [],
   "source": [
    "# 6 medicines with two categories: \"No\" and \"Stedy\"\n",
    "almost_zero_steady_meds = ['tolbutamide','troglitazone']+meds[-4:]"
   ]
  },
  {
   "cell_type": "code",
   "execution_count": 32,
   "metadata": {},
   "outputs": [
    {
     "name": "stdout",
     "output_type": "stream",
     "text": [
      "tolbutamide      No  Steady     All  No(%)  Steady(%)\n",
      "readmitted                                           \n",
      "<30           11356       1   11357  11.16       4.35\n",
      ">30           35538       7   35545  34.93      30.43\n",
      "NO            54849      15   54864  53.91      65.22\n",
      "All          101743      23  101766 100.00     100.00\n",
      "troglitazone      No  Steady     All  No(%)  Steady(%)\n",
      "readmitted                                            \n",
      "<30            11357       0   11357  11.16       0.00\n",
      ">30            35543       2   35545  34.93      66.67\n",
      "NO             54863       1   54864  53.91      33.33\n",
      "All           101763       3  101766 100.00     100.00\n",
      "glipizide-metformin      No  Steady     All  No(%)  Steady(%)\n",
      "readmitted                                                   \n",
      "<30                   11356       1   11357  11.16       7.69\n",
      ">30                   35538       7   35545  34.93      53.85\n",
      "NO                    54859       5   54864  53.91      38.46\n",
      "All                  101753      13  101766 100.00     100.00\n",
      "glimepiride-pioglitazone      No  Steady     All  No(%)  Steady(%)\n",
      "readmitted                                                        \n",
      "<30                        11357       0   11357  11.16       0.00\n",
      ">30                        35544       1   35545  34.93     100.00\n",
      "NO                         54864       0   54864  53.91       0.00\n",
      "All                       101765       1  101766 100.00     100.00\n",
      "metformin-rosiglitazone      No  Steady     All  No(%)  Steady(%)\n",
      "readmitted                                                       \n",
      "<30                       11357       0   11357  11.16       0.00\n",
      ">30                       35545       0   35545  34.93       0.00\n",
      "NO                        54862       2   54864  53.91     100.00\n",
      "All                      101764       2  101766 100.00     100.00\n",
      "metformin-pioglitazone      No  Steady     All  No(%)  Steady(%)\n",
      "readmitted                                                      \n",
      "<30                      11357       0   11357  11.16       0.00\n",
      ">30                      35545       0   35545  34.93       0.00\n",
      "NO                       54863       1   54864  53.91     100.00\n",
      "All                     101765       1  101766 100.00     100.00\n"
     ]
    }
   ],
   "source": [
    "for i in almost_zero_steady_meds:\n",
    "    cross_tab(df,i)        "
   ]
  },
  {
   "cell_type": "markdown",
   "metadata": {},
   "source": [
    "All the records from the \"Steady\" category in the medicines 'metformin-rosiglitazone' and 'metformin-pioglitazone' have \"NO\" as the value of readmission. Additionally 'tolbutamide' has more percentage of \"No readmission\" in the \"Steady\" category than in the \"No\" category.\n",
    "\n",
    "On the other hand, the other three medicines ('troglitazone','glipizide-metformin,'glimepiride-pioglitazone') have a distribution increase in the \">30\" and \"<30\" for the \"Steady\" category. "
   ]
  },
  {
   "cell_type": "markdown",
   "metadata": {},
   "source": [
    "#### Change, diabetesMed and readmitted"
   ]
  },
  {
   "cell_type": "code",
   "execution_count": 33,
   "metadata": {},
   "outputs": [
    {
     "data": {
      "image/png": "[encoded data removed]",
      "text/plain": [
       "<Figure size 1080x360 with 3 Axes>"
      ]
     },
     "metadata": {
      "needs_background": "light"
     },
     "output_type": "display_data"
    }
   ],
   "source": [
    "plt.figure(figsize=(15,5))\n",
    "variables = ['change','diabetesMed','readmitted']\n",
    "for i, var in enumerate(variables):\n",
    "    plt.subplot(1,3,i+1)\n",
    "    sns.countplot(x=var,data=df)\n",
    "    plt.ylabel(\"Count\")\n",
    "    plt.title(f\"{var} count plot\") \n",
    "plt.tight_layout()\n",
    "plt.show()"
   ]
  },
  {
   "cell_type": "markdown",
   "metadata": {},
   "source": [
    "The variable that measures if the patient change medicines it is really balanced, diffenret to the 'diabetes med' indicator. taking into account that the data set is from inpatients with diabetes it is concerning that more than 20k are not taking medication (maybe due to low income - even though the payer codes distribution it is similar to for both categories).   "
   ]
  },
  {
   "cell_type": "markdown",
   "metadata": {},
   "source": [
    "Our target variable is unbalanced but if we see this variable as \"No\" and \"Yes\" categories it is balanced. So there many options to tackle the prediction problem."
   ]
  },
  {
   "cell_type": "code",
   "execution_count": 34,
   "metadata": {},
   "outputs": [],
   "source": [
    "# Transform target variable in a binary variable\n",
    "df['readmitted_reg']= df['readmitted'].apply(lambda x: 1 if x!=\"NO\" else 0)"
   ]
  },
  {
   "cell_type": "markdown",
   "metadata": {},
   "source": [
    "#### Outliers management\n",
    "\n",
    "In statistics, an outlier is a data point that differs significantly from other observations. An outlier may be due to variability in the measurement or it may indicate experimental error.\n",
    "\n",
    "Ocasionally the outliers are subjectives, and there are many numeric methods to classify them. The simplest method is **Tukey's range test** represented by the next equations:\n",
    "\n",
    "`q < Q1 - 1.5 * IQR` or `q > Q3 + 1.5 * IQR`\n",
    "\n",
    "Where **q** is the outlier, **Q1** is the first quartile (Is the median of the lower half of the data set. This means that about 25% of the numbers in the data set lie below Q1 and about 75% lie above Q1), **Q3** is the third quartile (75%) and **IQR** is the interquartile range `IQR = Q3 - Q1`."
   ]
  },
  {
   "cell_type": "code",
   "execution_count": 35,
   "metadata": {},
   "outputs": [],
   "source": [
    "#The next function calculate the limits supossing the values trusted as 1.5 times the interquartile range \n",
    "def outlier_thresholds(dataframe, variable):\n",
    "    quartile1 = dataframe[variable].quantile(0.25)\n",
    "    quartile3 = dataframe[variable].quantile(0.75)\n",
    "    interquantile_range = quartile3 - quartile1\n",
    "    up_limit = quartile3 + 1.5 * interquantile_range\n",
    "    low_limit = quartile1 - 1.5 * interquantile_range\n",
    "    return low_limit, up_limit\n",
    "#The next function filter the dataset according the limits established in the functions above\n",
    "def has_outliers(dataframe, num_col_names):\n",
    "    variable_names = []\n",
    "    new_df = dataframe.copy()\n",
    "    for col in num_col_names:\n",
    "        low_limit, up_limit = outlier_thresholds(dataframe, col)\n",
    "        if dataframe[(dataframe[col] > up_limit) | (dataframe[col] < low_limit)].any(axis=None):\n",
    "            number_of_outliers = dataframe[(dataframe[col] > up_limit) | (dataframe[col] < low_limit)].shape[0]\n",
    "            print(\"lower limit: {:.2f} - upper limit: {:.2f}\".format(low_limit, up_limit))\n",
    "            print(\"Outliers in\", col.upper(), \":\", number_of_outliers)\n",
    "            variable_names.append(col)   \n",
    "        new_df = new_df[(new_df[col] <= up_limit) & (new_df[col] >= low_limit)]\n",
    "    print(\"Remaining rows: \" + str(new_df.shape[0]))\n",
    "    return new_df"
   ]
  },
  {
   "cell_type": "code",
   "execution_count": 36,
   "metadata": {
    "scrolled": true
   },
   "outputs": [
    {
     "name": "stdout",
     "output_type": "stream",
     "text": [
      "Outlier count with Tukey's test\n",
      "\n",
      "lower limit: -4.00 - upper limit: 12.00\n",
      "Outliers in TIME_IN_HOSPITAL : 2252\n",
      "lower limit: -8.00 - upper limit: 96.00\n",
      "Outliers in NUM_LAB_PROCEDURES : 143\n",
      "lower limit: -3.00 - upper limit: 5.00\n",
      "Outliers in NUM_PROCEDURES : 4954\n",
      "lower limit: -5.00 - upper limit: 35.00\n",
      "Outliers in NUM_MEDICATIONS : 2557\n",
      "lower limit: 0.00 - upper limit: 0.00\n",
      "Outliers in NUMBER_OUTPATIENT : 16739\n",
      "lower limit: 0.00 - upper limit: 0.00\n",
      "Outliers in NUMBER_EMERGENCY : 11383\n",
      "lower limit: -1.50 - upper limit: 2.50\n",
      "Outliers in NUMBER_INPATIENT : 7049\n",
      "lower limit: 1.50 - upper limit: 13.50\n",
      "Outliers in NUMBER_DIAGNOSES : 281\n",
      "Remaining rows: 67284\n"
     ]
    }
   ],
   "source": [
    "print(\"Outlier count with Tukey's test\\n\")\n",
    "df_tukey = has_outliers(df, num_cols[4:])"
   ]
  },
  {
   "cell_type": "code",
   "execution_count": 37,
   "metadata": {},
   "outputs": [
    {
     "data": {
      "text/plain": [
       "(67284, 52)"
      ]
     },
     "execution_count": 37,
     "metadata": {},
     "output_type": "execute_result"
    }
   ],
   "source": [
    "df_tukey.shape"
   ]
  },
  {
   "cell_type": "markdown",
   "metadata": {},
   "source": [
    "NUMBER_OUTPATIENT, has the greater amount of outliers  from all the numerical columns, it is the feature with the higher variance, follo by NUMBER_EMERGENCY and NUMBER_INPATIENT. The outliers columns are not shared in different records, that is why the resultant data frame was filtered by a larger amount of records."
   ]
  },
  {
   "cell_type": "markdown",
   "metadata": {},
   "source": [
    "<a href=\"#0\"><font size=\"1\">Back to contents</font></a>\n",
    "\n",
    "### 2.2. Feature Engineering: Grouping<a id=\"explore2\"></a>"
   ]
  },
  {
   "cell_type": "markdown",
   "metadata": {},
   "source": [
    "#### Diagnoses"
   ]
  },
  {
   "cell_type": "code",
   "execution_count": 38,
   "metadata": {},
   "outputs": [],
   "source": [
    "diagnoses= ['diag_1','diag_2','diag_3'] # List of column names with diagnoses data"
   ]
  },
  {
   "cell_type": "code",
   "execution_count": 39,
   "metadata": {},
   "outputs": [
    {
     "data": {
      "text/plain": [
       "diag_1    717\n",
       "diag_2    749\n",
       "diag_3    790\n",
       "dtype: int64"
      ]
     },
     "execution_count": 39,
     "metadata": {},
     "output_type": "execute_result"
    }
   ],
   "source": [
    "df[diagnoses].nunique()"
   ]
  },
  {
   "cell_type": "markdown",
   "metadata": {},
   "source": [
    "Currently every diagnose has more than 700 unique values, these values are representing a ICD9 code and these codes can be aggregated in groups using the Table 2."
   ]
  },
  {
   "cell_type": "markdown",
   "metadata": {},
   "source": [
    "Table 2 from [Impact of HbA1c Measurement on Hospital Readmission Rates](https://www.hindawi.com/journals/bmri/2014/781670/).\n",
    "\n",
    "<center><b>Table 2</b></center>\n",
    "\n",
    "<img src=\"data/images/table2.png\" alt=\"Drawing\" style=\"width: 800px;\"/>"
   ]
  },
  {
   "cell_type": "code",
   "execution_count": 40,
   "metadata": {},
   "outputs": [],
   "source": [
    "# Dictionary to aggregate the codes to a disease group name\n",
    "d = {range(390, 460): 'Circulatory',\n",
    "     range(785, 786): 'Circulatory',\n",
    "     range(460, 520): 'Respiratory',\n",
    "     range(786, 787): 'Respiratory',\n",
    "     range(520, 580): 'Digestive',\n",
    "     range(787, 788): 'Digestive',\n",
    "     range(250, 251): 'Diabetes',\n",
    "     range(800, 1000): 'Injury',\n",
    "     range(710, 740): 'Musculoskeletal',\n",
    "     range(580, 630): 'Genitourinary',\n",
    "     range(788, 789): 'Genitourinary',\n",
    "     range(140, 240): 'Neoplasms',\n",
    "     range(240, 250): 'Endocrine, nutritional, and metabolic diseases and immunity disorders, without diabetes',\n",
    "     range(251, 280): 'Endocrine, nutritional, and metabolic diseases and immunity disorders, without diabetes'}"
   ]
  },
  {
   "cell_type": "markdown",
   "metadata": {},
   "source": [
    "Due to the fact that the three diagnoses columns are non numerical, we need to transforme them in order to use the dictionary to classify the diagnoses in groups."
   ]
  },
  {
   "cell_type": "code",
   "execution_count": 41,
   "metadata": {},
   "outputs": [],
   "source": [
    "# Function to transform string to integer\n",
    "def str_int(row):\n",
    "    \n",
    "    try:\n",
    "        a=int(row)\n",
    "        return a\n",
    "    \n",
    "    except:\n",
    "        a=0\n",
    "        return a"
   ]
  },
  {
   "cell_type": "code",
   "execution_count": 42,
   "metadata": {},
   "outputs": [],
   "source": [
    "# From string to integer\n",
    "df['diag_1']= df['diag_1'].str.split(\".\").str.get(0).str.replace(\"V\",\"\")\n",
    "df['diag_2']= df['diag_2'].str.split(\".\").str.get(0).str.replace(\"V\",\"\")\n",
    "df['diag_3']= df['diag_3'].str.split(\".\").str.get(0).str.replace(\"V\",\"\")\n",
    "df['diag_1']= df['diag_1'].apply(str_int)\n",
    "df['diag_2']= df['diag_2'].apply(str_int)\n",
    "df['diag_3']= df['diag_3'].apply(str_int)"
   ]
  },
  {
   "cell_type": "code",
   "execution_count": 43,
   "metadata": {},
   "outputs": [],
   "source": [
    "df['diag_1_transform'] = df['diag_1'].apply(lambda x: next((v for k, v in d.items() if x in k), 'Other'))\n",
    "df['diag_2_transform'] = df['diag_2'].apply(lambda x: next((v for k, v in d.items() if x in k), 'Other'))\n",
    "df['diag_3_transform'] = df['diag_3'].apply(lambda x: next((v for k, v in d.items() if x in k), 'Other'))"
   ]
  },
  {
   "cell_type": "code",
   "execution_count": 44,
   "metadata": {},
   "outputs": [
    {
     "data": {
      "text/html": [
       "<div>\n",
       "<style scoped>\n",
       "    .dataframe tbody tr th:only-of-type {\n",
       "        vertical-align: middle;\n",
       "    }\n",
       "\n",
       "    .dataframe tbody tr th {\n",
       "        vertical-align: top;\n",
       "    }\n",
       "\n",
       "    .dataframe thead th {\n",
       "        text-align: right;\n",
       "    }\n",
       "</style>\n",
       "<table border=\"1\" class=\"dataframe\">\n",
       "  <thead>\n",
       "    <tr style=\"text-align: right;\">\n",
       "      <th></th>\n",
       "      <th>Group name</th>\n",
       "      <th>Diag 1</th>\n",
       "      <th>Diag 2</th>\n",
       "      <th>Diag 3</th>\n",
       "    </tr>\n",
       "  </thead>\n",
       "  <tbody>\n",
       "    <tr>\n",
       "      <th>0</th>\n",
       "      <td>Circulatory</td>\n",
       "      <td>29.91</td>\n",
       "      <td>31.33</td>\n",
       "      <td>29.78</td>\n",
       "    </tr>\n",
       "    <tr>\n",
       "      <th>1</th>\n",
       "      <td>Other</td>\n",
       "      <td>15.22</td>\n",
       "      <td>18.36</td>\n",
       "      <td>21.09</td>\n",
       "    </tr>\n",
       "    <tr>\n",
       "      <th>2</th>\n",
       "      <td>Respiratory</td>\n",
       "      <td>14.17</td>\n",
       "      <td>12.57</td>\n",
       "      <td>16.86</td>\n",
       "    </tr>\n",
       "    <tr>\n",
       "      <th>3</th>\n",
       "      <td>Digestive</td>\n",
       "      <td>9.31</td>\n",
       "      <td>10.71</td>\n",
       "      <td>8.99</td>\n",
       "    </tr>\n",
       "    <tr>\n",
       "      <th>4</th>\n",
       "      <td>Diabetes</td>\n",
       "      <td>8.61</td>\n",
       "      <td>8.23</td>\n",
       "      <td>7.23</td>\n",
       "    </tr>\n",
       "    <tr>\n",
       "      <th>5</th>\n",
       "      <td>Injury</td>\n",
       "      <td>6.85</td>\n",
       "      <td>8.08</td>\n",
       "      <td>6.56</td>\n",
       "    </tr>\n",
       "    <tr>\n",
       "      <th>6</th>\n",
       "      <td>Genitourinary</td>\n",
       "      <td>5.03</td>\n",
       "      <td>4.10</td>\n",
       "      <td>3.86</td>\n",
       "    </tr>\n",
       "    <tr>\n",
       "      <th>7</th>\n",
       "      <td>Musculoskeletal</td>\n",
       "      <td>4.87</td>\n",
       "      <td>2.50</td>\n",
       "      <td>1.91</td>\n",
       "    </tr>\n",
       "    <tr>\n",
       "      <th>8</th>\n",
       "      <td>Neoplasms</td>\n",
       "      <td>3.37</td>\n",
       "      <td>2.39</td>\n",
       "      <td>1.88</td>\n",
       "    </tr>\n",
       "    <tr>\n",
       "      <th>9</th>\n",
       "      <td>Endocrine, nutritional, and metabolic diseases...</td>\n",
       "      <td>2.66</td>\n",
       "      <td>1.73</td>\n",
       "      <td>1.82</td>\n",
       "    </tr>\n",
       "  </tbody>\n",
       "</table>\n",
       "</div>"
      ],
      "text/plain": [
       "                                          Group name  Diag 1  Diag 2  Diag 3\n",
       "0                                        Circulatory   29.91   31.33   29.78\n",
       "1                                              Other   15.22   18.36   21.09\n",
       "2                                        Respiratory   14.17   12.57   16.86\n",
       "3                                          Digestive    9.31   10.71    8.99\n",
       "4                                           Diabetes    8.61    8.23    7.23\n",
       "5                                             Injury    6.85    8.08    6.56\n",
       "6                                      Genitourinary    5.03    4.10    3.86\n",
       "7                                    Musculoskeletal    4.87    2.50    1.91\n",
       "8                                          Neoplasms    3.37    2.39    1.88\n",
       "9  Endocrine, nutritional, and metabolic diseases...    2.66    1.73    1.82"
      ]
     },
     "execution_count": 44,
     "metadata": {},
     "output_type": "execute_result"
    }
   ],
   "source": [
    "new_diag= (df['diag_1_transform'].value_counts()*100/df.shape[0]).rename_axis('Group name').reset_index(name='Diag 1')\n",
    "new_diag['Diag 2']= (df['diag_2_transform'].value_counts()*100/df.shape[0]).values\n",
    "new_diag['Diag 3']= (df['diag_3_transform'].value_counts()*100/df.shape[0]).values\n",
    "new_diag"
   ]
  },
  {
   "cell_type": "markdown",
   "metadata": {},
   "source": [
    "After aggregate the diagnoses by the group names, we obtained 10 groups. From more than 700 unique diagnoses to 10 group of diagnoses, this will help us to reduce the amount of columns generated by encoding."
   ]
  },
  {
   "cell_type": "markdown",
   "metadata": {},
   "source": [
    "<a href=\"#0\"><font size=\"1\">Back to contents</font></a>\n",
    "\n",
    "### 2.3. Feature Engineering: Encoding<a id=\"explore3\"></a>"
   ]
  },
  {
   "cell_type": "markdown",
   "metadata": {},
   "source": [
    "After the exploratory analysis there are many features that are not chosen due to: been keys, greater amount of unbalance data or a lot of missing values (\"?\"). "
   ]
  },
  {
   "cell_type": "code",
   "execution_count": 45,
   "metadata": {},
   "outputs": [],
   "source": [
    "# Not chosen attributes\n",
    "not_chosen_features= ['encounter_id','patient_nbr','discharge_disposition_id','admission_source_id','weight','payer_code',\n",
    "                      'medical_specialty','diag_1','diag_2','diag_3','examide','citoglipton','description']"
   ]
  },
  {
   "cell_type": "code",
   "execution_count": 46,
   "metadata": {},
   "outputs": [
    {
     "data": {
      "text/plain": [
       "['tolbutamide',\n",
       " 'troglitazone',\n",
       " 'glipizide-metformin',\n",
       " 'glimepiride-pioglitazone',\n",
       " 'metformin-rosiglitazone',\n",
       " 'metformin-pioglitazone']"
      ]
     },
     "execution_count": 46,
     "metadata": {},
     "output_type": "execute_result"
    }
   ],
   "source": [
    "# List of meds with almost zero records for the steady category\n",
    "almost_zero_steady_meds"
   ]
  },
  {
   "cell_type": "code",
   "execution_count": 47,
   "metadata": {},
   "outputs": [],
   "source": [
    "# Chosen features\n",
    "chosen= [col for col in df.columns if col not in not_chosen_features and col not in almost_zero_steady_meds]\n",
    "df_chosen = df[chosen]"
   ]
  },
  {
   "cell_type": "code",
   "execution_count": 48,
   "metadata": {},
   "outputs": [
    {
     "name": "stdout",
     "output_type": "stream",
     "text": [
      "<class 'pandas.core.frame.DataFrame'>\n",
      "Int64Index: 101766 entries, 0 to 101765\n",
      "Data columns (total 8 columns):\n",
      " #   Column              Non-Null Count   Dtype\n",
      "---  ------              --------------   -----\n",
      " 0   time_in_hospital    101766 non-null  int64\n",
      " 1   num_lab_procedures  101766 non-null  int64\n",
      " 2   num_procedures      101766 non-null  int64\n",
      " 3   num_medications     101766 non-null  int64\n",
      " 4   number_outpatient   101766 non-null  int64\n",
      " 5   number_emergency    101766 non-null  int64\n",
      " 6   number_inpatient    101766 non-null  int64\n",
      " 7   number_diagnoses    101766 non-null  int64\n",
      "dtypes: int64(8)\n",
      "memory usage: 11.0 MB\n"
     ]
    }
   ],
   "source": [
    "# Numeric variables that are not categorical\n",
    "num_chosen = df_chosen[num_cols[4:]]\n",
    "num_chosen.info()"
   ]
  },
  {
   "cell_type": "code",
   "execution_count": 49,
   "metadata": {},
   "outputs": [
    {
     "name": "stdout",
     "output_type": "stream",
     "text": [
      "<class 'pandas.core.frame.DataFrame'>\n",
      "Int64Index: 101766 entries, 0 to 101765\n",
      "Data columns (total 28 columns):\n",
      " #   Column               Non-Null Count   Dtype \n",
      "---  ------               --------------   ----- \n",
      " 0   race                 101766 non-null  object\n",
      " 1   gender               101766 non-null  object\n",
      " 2   age                  101766 non-null  object\n",
      " 3   admission_type_id    101766 non-null  object\n",
      " 4   max_glu_serum        101766 non-null  object\n",
      " 5   A1Cresult            101766 non-null  object\n",
      " 6   metformin            101766 non-null  object\n",
      " 7   repaglinide          101766 non-null  object\n",
      " 8   nateglinide          101766 non-null  object\n",
      " 9   chlorpropamide       101766 non-null  object\n",
      " 10  glimepiride          101766 non-null  object\n",
      " 11  acetohexamide        101766 non-null  object\n",
      " 12  glipizide            101766 non-null  object\n",
      " 13  glyburide            101766 non-null  object\n",
      " 14  pioglitazone         101766 non-null  object\n",
      " 15  rosiglitazone        101766 non-null  object\n",
      " 16  acarbose             101766 non-null  object\n",
      " 17  miglitol             101766 non-null  object\n",
      " 18  tolazamide           101766 non-null  object\n",
      " 19  insulin              101766 non-null  object\n",
      " 20  glyburide-metformin  101766 non-null  object\n",
      " 21  change               101766 non-null  object\n",
      " 22  diabetesMed          101766 non-null  object\n",
      " 23  readmitted           101766 non-null  object\n",
      " 24  readmitted_reg       101766 non-null  int64 \n",
      " 25  diag_1_transform     101766 non-null  object\n",
      " 26  diag_2_transform     101766 non-null  object\n",
      " 27  diag_3_transform     101766 non-null  object\n",
      "dtypes: int64(1), object(27)\n",
      "memory usage: 26.5+ MB\n"
     ]
    }
   ],
   "source": [
    "# Categorical variables chosen\n",
    "cat_chosen_list = [col for col in df_chosen.columns if col not in num_chosen.columns and col not in almost_zero_steady_meds]\n",
    "cat_chosen = df_chosen[cat_chosen_list]\n",
    "cat_chosen.info()"
   ]
  },
  {
   "cell_type": "code",
   "execution_count": 50,
   "metadata": {},
   "outputs": [
    {
     "data": {
      "text/plain": [
       "26"
      ]
     },
     "execution_count": 50,
     "metadata": {},
     "output_type": "execute_result"
    }
   ],
   "source": [
    "# Categorical variables chosen without target variables\n",
    "cat_chosen_list2= [col for col in cat_chosen_list if col != 'readmitted' and col != 'readmitted_reg']\n",
    "len(cat_chosen_list2)"
   ]
  },
  {
   "cell_type": "code",
   "execution_count": 51,
   "metadata": {},
   "outputs": [],
   "source": [
    "# Silent warnings\n",
    "import warnings \n",
    "warnings.filterwarnings(\"ignore\") # remove low importance warnings"
   ]
  },
  {
   "cell_type": "code",
   "execution_count": 52,
   "metadata": {},
   "outputs": [],
   "source": [
    "# Transform target variable in a numeric variable\n",
    "df_chosen['readmitted']= df_chosen['readmitted'].map({\"NO\":0,\">30\":1,\"<30\":2})"
   ]
  },
  {
   "cell_type": "code",
   "execution_count": 53,
   "metadata": {},
   "outputs": [],
   "source": [
    "X= df_chosen[num_cols[4:]+cat_chosen_list2]\n",
    "y= df_chosen['readmitted']\n",
    "y_binary= df_chosen['readmitted_reg']"
   ]
  },
  {
   "cell_type": "code",
   "execution_count": 54,
   "metadata": {},
   "outputs": [
    {
     "data": {
      "text/plain": [
       "(101766, 34)"
      ]
     },
     "execution_count": 54,
     "metadata": {},
     "output_type": "execute_result"
    }
   ],
   "source": [
    "# 34 features will be used to predict the readmitted variable\n",
    "# 8 numeric and 26 categorical\n",
    "X.shape"
   ]
  },
  {
   "cell_type": "code",
   "execution_count": 75,
   "metadata": {},
   "outputs": [],
   "source": [
    "# Encoding using get_dummies from pandas, to transform categorical variables to numerical\n",
    "df_dum= pd.get_dummies(X, columns=cat_chosen_list2, drop_first= True) # drop first eliminates the redundancies"
   ]
  },
  {
   "cell_type": "code",
   "execution_count": 76,
   "metadata": {},
   "outputs": [
    {
     "data": {
      "text/plain": [
       "(101766, 108)"
      ]
     },
     "execution_count": 76,
     "metadata": {},
     "output_type": "execute_result"
    }
   ],
   "source": [
    "df_dum.shape"
   ]
  },
  {
   "cell_type": "markdown",
   "metadata": {},
   "source": [
    "After encoding the categorical columns we ended up with more than 100 features."
   ]
  },
  {
   "cell_type": "markdown",
   "metadata": {},
   "source": [
    "* Feature scaling\n",
    "\n",
    "Standardization it is used to normalize the data in order to have proportional weights once feed into the model.\n",
    "\n",
    "It is important to notice that the StandardScaler method affects the dummies variables so we are only applying that transformation to the numeric columns with the exception of the target column: price."
   ]
  },
  {
   "cell_type": "code",
   "execution_count": 57,
   "metadata": {},
   "outputs": [],
   "source": [
    "# Standardization\n",
    "from sklearn.preprocessing import StandardScaler # StandardScaler"
   ]
  },
  {
   "cell_type": "code",
   "execution_count": 77,
   "metadata": {},
   "outputs": [],
   "source": [
    "df_dum_std = df_dum.copy()\n",
    "df_dum_std[num_cols[4:]] = StandardScaler().fit_transform(df_dum_std[num_cols[4:]])"
   ]
  },
  {
   "cell_type": "markdown",
   "metadata": {},
   "source": [
    "<a href=\"#0\"><font size=\"1\">Back to contents</font></a>\n",
    "\n",
    "### 2.4. Principal Component Analysis<a id=\"explore4\"></a>"
   ]
  },
  {
   "cell_type": "markdown",
   "metadata": {},
   "source": [
    "We are going to calculate the Principal Component Analysis or Eigen vector values with the objective of reducing the number of features needed to represent the current data.\n",
    "\n",
    "The code used in this section is based on a collaborator from kaggle [link](https://www.kaggle.com/nirajvermafcb/principal-component-analysis-explained)"
   ]
  },
  {
   "cell_type": "code",
   "execution_count": 78,
   "metadata": {},
   "outputs": [
    {
     "data": {
      "text/plain": [
       "108"
      ]
     },
     "execution_count": 78,
     "metadata": {},
     "output_type": "execute_result"
    }
   ],
   "source": [
    "mean_vec = np.mean(df_dum_std, axis=0)\n",
    "cov_mat = (df_dum_std - mean_vec).T.dot((df_dum_std - mean_vec)) / (df_dum_std.shape[0]-1)\n",
    "# Eigen decomposition of the covariance matrix\n",
    "eig_vals, eig_vecs = np.linalg.eig(cov_mat)\n",
    "# Make a list of (eigenvalue, eigenvector) tuples\n",
    "eig_pairs = [(np.abs(eig_vals[i]), eig_vecs[:,i]) for i in range(len(eig_vals))]\n",
    "# Sort the (eigenvalue, eigenvector) tuples from high to low\n",
    "eig_pairs.sort(key=lambda x: x[0], reverse=True)\n",
    "tot = sum(eig_vals)\n",
    "var_exp = [(i / tot)*100 for i in sorted(eig_vals, reverse=True)]\n",
    "len(var_exp)"
   ]
  },
  {
   "cell_type": "code",
   "execution_count": 79,
   "metadata": {},
   "outputs": [
    {
     "data": {
      "image/png": "[encoded data removed]",
      "text/plain": [
       "<Figure size 1008x360 with 1 Axes>"
      ]
     },
     "metadata": {},
     "output_type": "display_data"
    }
   ],
   "source": [
    "with plt.style.context('fivethirtyeight'):\n",
    "    plt.figure(figsize=(14, 5))\n",
    "\n",
    "    plt.bar(range(len(var_exp)), var_exp, alpha=0.5, align='center',\n",
    "            label='individual explained variance')\n",
    "    plt.ylabel('Explained variance ratio')\n",
    "    plt.xlabel('Principal components')\n",
    "    plt.legend(loc='best')\n",
    "    plt.xlim(0,65,1)\n",
    "    plt.grid()\n",
    "    plt.tight_layout()"
   ]
  },
  {
   "cell_type": "markdown",
   "metadata": {},
   "source": [
    "This graph show us that from the 108 features we have, less than half explained the variance ratio of the data. In other words, with less features we can represent close to the same amount of data."
   ]
  },
  {
   "cell_type": "code",
   "execution_count": 80,
   "metadata": {},
   "outputs": [
    {
     "name": "stdout",
     "output_type": "stream",
     "text": [
      "Number of components needed to reach 95.0% of the data variance:44\n"
     ]
    },
    {
     "data": {
      "image/png": "[encoded data removed]",
      "text/plain": [
       "<Figure size 1008x504 with 1 Axes>"
      ]
     },
     "metadata": {
      "needs_background": "light"
     },
     "output_type": "display_data"
    }
   ],
   "source": [
    "from sklearn.decomposition import PCA # using sklear decomposition library we can perform more easily the feature reduction\n",
    "cumulative_var = 0.95\n",
    "pca = PCA(cumulative_var).fit(df_dum_std)\n",
    "print(\"Number of components needed to reach {0}% of the data variance:{1}\".format(cumulative_var*100,pca.n_components_))\n",
    "plt.figure(figsize=(14,7))\n",
    "plt.plot(np.cumsum(pca.explained_variance_ratio_))\n",
    "# plt.xlim(0,100,1)\n",
    "plt.title('Number of components vs Cumulative explained variance')\n",
    "plt.xlabel('Number of components')\n",
    "plt.ylabel('Cumulative explained variance')\n",
    "plt.grid()\n",
    "plt.show()"
   ]
  },
  {
   "cell_type": "code",
   "execution_count": 81,
   "metadata": {},
   "outputs": [
    {
     "name": "stdout",
     "output_type": "stream",
     "text": [
      "Count of PCA features: 44\n",
      "Percentage reached 95.05\n"
     ]
    }
   ],
   "source": [
    "pca = PCA(0.95).fit(df_dum_std)\n",
    "print(\"Count of PCA features:\",len(pca.explained_variance_ratio_))\n",
    "print(\"Percentage reached\", round(sum(pca.explained_variance_ratio_)*100,2))\n",
    "#print(pca.singular_values_)"
   ]
  },
  {
   "cell_type": "markdown",
   "metadata": {},
   "source": [
    "The calculations and graphics done before, tell us that with only 46 PCA features we can represent 95% of the data provided by the 134 features."
   ]
  },
  {
   "cell_type": "code",
   "execution_count": 82,
   "metadata": {},
   "outputs": [],
   "source": [
    "X_pca = pca.fit_transform(df_dum_std)"
   ]
  },
  {
   "cell_type": "code",
   "execution_count": 83,
   "metadata": {},
   "outputs": [
    {
     "data": {
      "text/plain": [
       "(101766, 44)"
      ]
     },
     "execution_count": 83,
     "metadata": {},
     "output_type": "execute_result"
    }
   ],
   "source": [
    "X_pca.shape"
   ]
  },
  {
   "cell_type": "code",
   "execution_count": 84,
   "metadata": {},
   "outputs": [],
   "source": [
    "# PCA transformating generates an array without column names\n",
    "col_pca = ['pc_{0}'.format(i+1) for i in range(X_pca.shape[1])] # list of column names\n",
    "df_pca = pd.DataFrame(X_pca, columns = col_pca) # new data frame creation\n",
    "df_pca['readmitted'] = y # target variable\n",
    "df_pca['readmitted_bi'] = y_binary # target variable"
   ]
  },
  {
   "cell_type": "code",
   "execution_count": 85,
   "metadata": {},
   "outputs": [
    {
     "data": {
      "text/plain": [
       "(101766, 46)"
      ]
     },
     "execution_count": 85,
     "metadata": {},
     "output_type": "execute_result"
    }
   ],
   "source": [
    "# New data frame for modeling\n",
    "df_pca.shape"
   ]
  },
  {
   "cell_type": "code",
   "execution_count": 89,
   "metadata": {},
   "outputs": [
    {
     "data": {
      "image/png": "[encoded data removed]",
      "text/plain": [
       "<Figure size 1080x720 with 1 Axes>"
      ]
     },
     "metadata": {
      "needs_background": "light"
     },
     "output_type": "display_data"
    }
   ],
   "source": [
    "#plt.figure(figsize=(15,7))\n",
    "corr=df_pca.iloc[:,:-1].corr()['readmitted'].abs().sort_values(ascending=False)\n",
    "\n",
    "plt.figure(figsize=(15,10))\n",
    "\n",
    "sns.barplot(y=corr.index[1:], x=corr.values[1:], orient='h')\n",
    "for index, correlation in enumerate(corr[1:]): \n",
    "    plt.text(correlation, index, str(round(correlation, 3)))\n",
    "    \n",
    "plt.xticks(rotation=90)\n",
    "plt.title(\"PCA feature correlation with non binary readmitted\")\n",
    "plt.xlabel(\"Correlation value\")\n",
    "plt.ylabel(\"PCA Feature\")\n",
    "plt.show()"
   ]
  },
  {
   "cell_type": "markdown",
   "metadata": {},
   "source": [
    "The PC_2 feature is the highest correlated to the target variable. This could represent a tendency for the models to give to it more priority. "
   ]
  },
  {
   "cell_type": "markdown",
   "metadata": {},
   "source": [
    "<a href=\"#0\"><font size=\"1\">Back to contents</font></a>\n",
    "\n",
    "### 3. Modeling<a id=\"modeling\"></a>"
   ]
  },
  {
   "cell_type": "code",
   "execution_count": 90,
   "metadata": {},
   "outputs": [],
   "source": [
    "# Models\n",
    "from sklearn.linear_model import LogisticRegression # Logistic regression\n",
    "from sklearn.tree import DecisionTreeClassifier # Decision tree classifier\n",
    "from sklearn.ensemble import RandomForestClassifier # Random forest classifier\n",
    "\n",
    "# Train and test splitting\n",
    "from sklearn.model_selection import train_test_split\n",
    "\n",
    "# Metrics\n",
    "import sklearn.metrics as metrics # Metrics to evaluate models\n",
    "from sklearn.metrics import confusion_matrix # matrix with false positives, false negatives ... \n",
    "\n",
    "# Cross validation\n",
    "from sklearn.model_selection import cross_val_score # To be sure the model performs well in different iterations of the data \n",
    "# Grid search - optimization\n",
    "from sklearn.model_selection import GridSearchCV"
   ]
  },
  {
   "cell_type": "markdown",
   "metadata": {},
   "source": [
    "### Benchmark model: Logistic regression with numerical columns "
   ]
  },
  {
   "cell_type": "code",
   "execution_count": 91,
   "metadata": {},
   "outputs": [],
   "source": [
    "X_bench = df[num_cols[4::]] # data set with only 8 numeric features\n",
    "y_bench = df['readmitted_reg'] # target variable in binary form\n",
    "# Standardization of the data\n",
    "X_bench_std = X_bench.copy()\n",
    "X_bench_std[num_cols[4::]] = StandardScaler().fit_transform(X_bench) \n",
    "# Standardization it is used to normalize the data in order to have proportional weights once feed into the model."
   ]
  },
  {
   "cell_type": "code",
   "execution_count": 95,
   "metadata": {},
   "outputs": [
    {
     "name": "stdout",
     "output_type": "stream",
     "text": [
      "Accuracy training score: 0.6155053312409251\n",
      "Accuracy testing score: 0.6175148140428193\n",
      "Validation score per folio: [0.62443173 0.61577944 0.60140783 0.6111763  0.62158991 0.61953652\n",
      " 0.62232326 0.61352303 0.6136697  0.61542974]\n",
      "Average validation score: 0.62\n"
     ]
    }
   ],
   "source": [
    "# Create train and test sets to train and measure the performance of the model\n",
    "X_trainB, X_testB, y_trainB, y_testB = train_test_split(X_bench_std, y_bench, test_size=0.33, random_state=42) #, stratify=y_bench)\n",
    "# Create logistic regression model\n",
    "clf_logit_bench = LogisticRegression(random_state=0).fit(X_trainB, y_trainB)\n",
    "# Calculate predictions\n",
    "y_train_predB = clf_logit_bench.predict(X_trainB)\n",
    "y_test_predB = clf_logit_bench.predict(X_testB)\n",
    "print(f\"Accuracy training score: {metrics.accuracy_score(y_trainB, y_train_predB)}\") \n",
    "print(f\"Accuracy testing score: {metrics.accuracy_score(y_testB, y_test_predB)}\")\n",
    "print(f\"Validation score per folio: {cross_val_score(clf_logit_bench, X_trainB, y_trainB, cv=10)}\")\n",
    "print(f\"Average validation score: {round(cross_val_score(clf_logit_bench, X_trainB, y_trainB, cv=10).mean(),2)}\")"
   ]
  },
  {
   "cell_type": "markdown",
   "metadata": {},
   "source": [
    "The bench mark model classify correctly 62% of the testing data. It is a lot better than flip a coin, it is a decent first approach, although this model simplifies the target variable. "
   ]
  },
  {
   "cell_type": "markdown",
   "metadata": {},
   "source": [
    "### Logistic regression model with data frame without PCA transformation - 108 features"
   ]
  },
  {
   "cell_type": "code",
   "execution_count": 96,
   "metadata": {},
   "outputs": [
    {
     "name": "stdout",
     "output_type": "stream",
     "text": [
      "(101766, 108)\n"
     ]
    }
   ],
   "source": [
    "print(df_dum_std.shape)\n",
    "df_dum_std['readmitted'] = y # target variable\n",
    "df_dum_std['readmitted_bi'] = y_binary # target variable"
   ]
  },
  {
   "cell_type": "code",
   "execution_count": 97,
   "metadata": {},
   "outputs": [
    {
     "name": "stdout",
     "output_type": "stream",
     "text": [
      "Accuracy training score: 0.6236305237375885\n",
      "Accuracy testing score: 0.6229639996426763\n",
      "Validation score per folio: [0.62428509 0.61871242 0.61856577 0.62056322 0.62511    0.6350836\n",
      " 0.62320329 0.61645644 0.62217659 0.62246993]\n",
      "Average validation score: 0.62\n"
     ]
    }
   ],
   "source": [
    "# Create train and test sets to train and measure the performance of the model\n",
    "X_train, X_test, y_train, y_test = train_test_split(df_dum_std.iloc[:,:-2], df_dum_std.readmitted_bi, test_size=0.33,\n",
    "                                                    random_state=42, stratify= df_dum_std.readmitted_bi)\n",
    "# Create logistic regression model\n",
    "clf_logit = LogisticRegression(random_state=0).fit(X_train, y_train)\n",
    "# Calculate predictions\n",
    "y_train_pred = clf_logit.predict(X_train)\n",
    "y_test_pred = clf_logit.predict(X_test)\n",
    "print(f\"Accuracy training score: {metrics.accuracy_score(y_train, y_train_pred)}\") \n",
    "print(f\"Accuracy testing score: {metrics.accuracy_score(y_test, y_test_pred)}\")\n",
    "print(f\"Validation score per folio: {cross_val_score(clf_logit, X_train, y_train, cv=10)}\")\n",
    "print(f\"Average validation score: {round(cross_val_score(clf_logit, X_train, y_train, cv=10).mean(),2)}\") "
   ]
  },
  {
   "cell_type": "markdown",
   "metadata": {},
   "source": [
    "The model accurately predicts 62% of the testing data. It is practically the same than the benchmark."
   ]
  },
  {
   "cell_type": "markdown",
   "metadata": {},
   "source": [
    "### Logistic regression model with data frame after PCA transformation - 44 features and binary target"
   ]
  },
  {
   "cell_type": "code",
   "execution_count": 98,
   "metadata": {},
   "outputs": [
    {
     "name": "stdout",
     "output_type": "stream",
     "text": [
      "Accuracy training score: 0.6212838977457724\n",
      "Accuracy testing score: 0.6191525474198255\n",
      "Validation score per folio: [0.61929902 0.62237865 0.61812582 0.61674978 0.62026987 0.63068348\n",
      " 0.62290994 0.61029627 0.6186565  0.62070989]\n",
      "Average validation score: 0.62\n"
     ]
    }
   ],
   "source": [
    "# Create train and test sets to train and measure the performance of the model\n",
    "X_train, X_test, y_train, y_test = train_test_split(df_pca.iloc[:,:-2], df_pca.readmitted_bi, test_size=0.33, random_state=42,\n",
    "                                                        stratify= df_pca.readmitted_bi)\n",
    "# Create logistic regression model\n",
    "clf_logit = LogisticRegression(random_state=0).fit(X_train, y_train)\n",
    "# Calculate predictions\n",
    "y_train_pred = clf_logit.predict(X_train)\n",
    "y_test_pred = clf_logit.predict(X_test)\n",
    "print(f\"Accuracy training score: {metrics.accuracy_score(y_train, y_train_pred)}\") \n",
    "print(f\"Accuracy testing score: {metrics.accuracy_score(y_test, y_test_pred)}\")\n",
    "cross = cross_val_score(clf_logit, X_train, y_train, cv=10)\n",
    "print(f\"Validation score per folio: {cross}\")\n",
    "print(f\"Average validation score: {round(cross.mean(),2)}\")"
   ]
  },
  {
   "cell_type": "markdown",
   "metadata": {},
   "source": [
    "The model accurately predicts 62% of the testing data. It is practically the same that the created without the feature processing. "
   ]
  },
  {
   "cell_type": "markdown",
   "metadata": {},
   "source": [
    "### Decision tree classifier model with data frame after PCA transformation with binary target"
   ]
  },
  {
   "cell_type": "code",
   "execution_count": 99,
   "metadata": {},
   "outputs": [
    {
     "name": "stdout",
     "output_type": "stream",
     "text": [
      "Accuracy training score: 0.6212985641582213\n",
      "Accuracy testing score: 0.6202245183575023\n",
      "Validation score per folio: [0.61563279 0.61709928 0.6147529  0.612643   0.61689645 0.63141684\n",
      " 0.61454972 0.60941625 0.61880317 0.61161631]\n",
      "Average validation score: 0.62\n"
     ]
    }
   ],
   "source": [
    "# Create decision tree classifier model\n",
    "clf = DecisionTreeClassifier(max_depth= 5,random_state=0).fit(X_train, y_train)\n",
    "# Calculate predictions\n",
    "y_train_pred = clf.predict(X_train)\n",
    "y_test_pred = clf.predict(X_test)\n",
    "print(f\"Accuracy training score: {metrics.accuracy_score(y_train, y_train_pred)}\") \n",
    "print(f\"Accuracy testing score: {metrics.accuracy_score(y_test, y_test_pred)}\")\n",
    "cross = cross_val_score(clf, X_train, y_train, cv=10)\n",
    "print(f\"Validation score per folio: {cross}\")\n",
    "print(f\"Average validation score: {round(cross.mean(),2)}\")"
   ]
  },
  {
   "cell_type": "markdown",
   "metadata": {},
   "source": [
    "The decision tree model accurately predicts 61% of the testing data. It performs a little worst, but the hyperparameters are not optimized."
   ]
  },
  {
   "cell_type": "code",
   "execution_count": 100,
   "metadata": {},
   "outputs": [
    {
     "data": {
      "image/png": "[encoded data removed]",
      "text/plain": [
       "<Figure size 504x504 with 1 Axes>"
      ]
     },
     "metadata": {
      "needs_background": "light"
     },
     "output_type": "display_data"
    }
   ],
   "source": [
    "# Feature importance for the classifier.\n",
    "feature_importance = clf.feature_importances_\n",
    "feat_importances = pd.Series(feature_importance, index=X_train.columns)\n",
    "feat_importances = feat_importances.nlargest(10)\n",
    "feat_importances.plot(kind='barh' , figsize=(7,7)) \n",
    "plt.xlabel(\"Porcentage of feature importances\")\n",
    "plt.title(\"More relevant features for the decision tree model\")\n",
    "plt.show()"
   ]
  },
  {
   "cell_type": "code",
   "execution_count": 101,
   "metadata": {},
   "outputs": [
    {
     "data": {
      "text/plain": [
       "GridSearchCV(estimator=DecisionTreeClassifier(random_state=0),\n",
       "             param_grid={'criterion': ('entropy', 'gini'),\n",
       "                         'max_depth': [3, 4, 5, 6, 7, 8, 9, 10]})"
      ]
     },
     "execution_count": 101,
     "metadata": {},
     "output_type": "execute_result"
    }
   ],
   "source": [
    "parameters = {'criterion':('entropy', 'gini'), 'max_depth':[3,4,5,6,7,8,9,10]}\n",
    "# Grid search, allow to create multiple models, that we can evaluate and choose\n",
    "clf = GridSearchCV(DecisionTreeClassifier(random_state=0), parameters)\n",
    "clf.fit(X_train, y_train)"
   ]
  },
  {
   "cell_type": "code",
   "execution_count": 102,
   "metadata": {},
   "outputs": [
    {
     "data": {
      "text/html": [
       "<div>\n",
       "<style scoped>\n",
       "    .dataframe tbody tr th:only-of-type {\n",
       "        vertical-align: middle;\n",
       "    }\n",
       "\n",
       "    .dataframe tbody tr th {\n",
       "        vertical-align: top;\n",
       "    }\n",
       "\n",
       "    .dataframe thead th {\n",
       "        text-align: right;\n",
       "    }\n",
       "</style>\n",
       "<table border=\"1\" class=\"dataframe\">\n",
       "  <thead>\n",
       "    <tr style=\"text-align: right;\">\n",
       "      <th></th>\n",
       "      <th>params</th>\n",
       "      <th>rank_test_score</th>\n",
       "      <th>mean_test_score</th>\n",
       "      <th>std_test_score</th>\n",
       "    </tr>\n",
       "    <tr>\n",
       "      <th>model</th>\n",
       "      <th></th>\n",
       "      <th></th>\n",
       "      <th></th>\n",
       "      <th></th>\n",
       "    </tr>\n",
       "  </thead>\n",
       "  <tbody>\n",
       "    <tr>\n",
       "      <th>entropy_4</th>\n",
       "      <td>{'criterion': 'entropy', 'max_depth': 4}</td>\n",
       "      <td>1</td>\n",
       "      <td>0.62</td>\n",
       "      <td>0.00</td>\n",
       "    </tr>\n",
       "    <tr>\n",
       "      <th>gini_4</th>\n",
       "      <td>{'criterion': 'gini', 'max_depth': 4}</td>\n",
       "      <td>2</td>\n",
       "      <td>0.62</td>\n",
       "      <td>0.00</td>\n",
       "    </tr>\n",
       "    <tr>\n",
       "      <th>entropy_5</th>\n",
       "      <td>{'criterion': 'entropy', 'max_depth': 5}</td>\n",
       "      <td>3</td>\n",
       "      <td>0.62</td>\n",
       "      <td>0.00</td>\n",
       "    </tr>\n",
       "    <tr>\n",
       "      <th>gini_5</th>\n",
       "      <td>{'criterion': 'gini', 'max_depth': 5}</td>\n",
       "      <td>4</td>\n",
       "      <td>0.61</td>\n",
       "      <td>0.00</td>\n",
       "    </tr>\n",
       "    <tr>\n",
       "      <th>entropy_6</th>\n",
       "      <td>{'criterion': 'entropy', 'max_depth': 6}</td>\n",
       "      <td>5</td>\n",
       "      <td>0.61</td>\n",
       "      <td>0.01</td>\n",
       "    </tr>\n",
       "    <tr>\n",
       "      <th>gini_6</th>\n",
       "      <td>{'criterion': 'gini', 'max_depth': 6}</td>\n",
       "      <td>6</td>\n",
       "      <td>0.61</td>\n",
       "      <td>0.01</td>\n",
       "    </tr>\n",
       "    <tr>\n",
       "      <th>entropy_3</th>\n",
       "      <td>{'criterion': 'entropy', 'max_depth': 3}</td>\n",
       "      <td>7</td>\n",
       "      <td>0.61</td>\n",
       "      <td>0.00</td>\n",
       "    </tr>\n",
       "    <tr>\n",
       "      <th>gini_3</th>\n",
       "      <td>{'criterion': 'gini', 'max_depth': 3}</td>\n",
       "      <td>7</td>\n",
       "      <td>0.61</td>\n",
       "      <td>0.00</td>\n",
       "    </tr>\n",
       "    <tr>\n",
       "      <th>entropy_7</th>\n",
       "      <td>{'criterion': 'entropy', 'max_depth': 7}</td>\n",
       "      <td>9</td>\n",
       "      <td>0.61</td>\n",
       "      <td>0.00</td>\n",
       "    </tr>\n",
       "    <tr>\n",
       "      <th>entropy_8</th>\n",
       "      <td>{'criterion': 'entropy', 'max_depth': 8}</td>\n",
       "      <td>10</td>\n",
       "      <td>0.61</td>\n",
       "      <td>0.01</td>\n",
       "    </tr>\n",
       "    <tr>\n",
       "      <th>gini_7</th>\n",
       "      <td>{'criterion': 'gini', 'max_depth': 7}</td>\n",
       "      <td>11</td>\n",
       "      <td>0.61</td>\n",
       "      <td>0.00</td>\n",
       "    </tr>\n",
       "    <tr>\n",
       "      <th>gini_8</th>\n",
       "      <td>{'criterion': 'gini', 'max_depth': 8}</td>\n",
       "      <td>12</td>\n",
       "      <td>0.61</td>\n",
       "      <td>0.00</td>\n",
       "    </tr>\n",
       "    <tr>\n",
       "      <th>entropy_9</th>\n",
       "      <td>{'criterion': 'entropy', 'max_depth': 9}</td>\n",
       "      <td>13</td>\n",
       "      <td>0.61</td>\n",
       "      <td>0.01</td>\n",
       "    </tr>\n",
       "    <tr>\n",
       "      <th>entropy_10</th>\n",
       "      <td>{'criterion': 'entropy', 'max_depth': 10}</td>\n",
       "      <td>14</td>\n",
       "      <td>0.60</td>\n",
       "      <td>0.01</td>\n",
       "    </tr>\n",
       "    <tr>\n",
       "      <th>gini_9</th>\n",
       "      <td>{'criterion': 'gini', 'max_depth': 9}</td>\n",
       "      <td>15</td>\n",
       "      <td>0.60</td>\n",
       "      <td>0.00</td>\n",
       "    </tr>\n",
       "    <tr>\n",
       "      <th>gini_10</th>\n",
       "      <td>{'criterion': 'gini', 'max_depth': 10}</td>\n",
       "      <td>16</td>\n",
       "      <td>0.60</td>\n",
       "      <td>0.00</td>\n",
       "    </tr>\n",
       "  </tbody>\n",
       "</table>\n",
       "</div>"
      ],
      "text/plain": [
       "                                               params  rank_test_score  mean_test_score  std_test_score\n",
       "model                                                                                                  \n",
       "entropy_4    {'criterion': 'entropy', 'max_depth': 4}                1             0.62            0.00\n",
       "gini_4          {'criterion': 'gini', 'max_depth': 4}                2             0.62            0.00\n",
       "entropy_5    {'criterion': 'entropy', 'max_depth': 5}                3             0.62            0.00\n",
       "gini_5          {'criterion': 'gini', 'max_depth': 5}                4             0.61            0.00\n",
       "entropy_6    {'criterion': 'entropy', 'max_depth': 6}                5             0.61            0.01\n",
       "gini_6          {'criterion': 'gini', 'max_depth': 6}                6             0.61            0.01\n",
       "entropy_3    {'criterion': 'entropy', 'max_depth': 3}                7             0.61            0.00\n",
       "gini_3          {'criterion': 'gini', 'max_depth': 3}                7             0.61            0.00\n",
       "entropy_7    {'criterion': 'entropy', 'max_depth': 7}                9             0.61            0.00\n",
       "entropy_8    {'criterion': 'entropy', 'max_depth': 8}               10             0.61            0.01\n",
       "gini_7          {'criterion': 'gini', 'max_depth': 7}               11             0.61            0.00\n",
       "gini_8          {'criterion': 'gini', 'max_depth': 8}               12             0.61            0.00\n",
       "entropy_9    {'criterion': 'entropy', 'max_depth': 9}               13             0.61            0.01\n",
       "entropy_10  {'criterion': 'entropy', 'max_depth': 10}               14             0.60            0.01\n",
       "gini_9          {'criterion': 'gini', 'max_depth': 9}               15             0.60            0.00\n",
       "gini_10        {'criterion': 'gini', 'max_depth': 10}               16             0.60            0.00"
      ]
     },
     "execution_count": 102,
     "metadata": {},
     "output_type": "execute_result"
    }
   ],
   "source": [
    "results_df = pd.DataFrame(clf.cv_results_) # create a result with the different models\n",
    "results_df = results_df.sort_values(by=['rank_test_score']) # sort the models by scores\n",
    "results_df = (results_df.set_index(results_df[\"params\"].apply(lambda x: \"_\".join(str(val) for val in x.values())))\n",
    "              .rename_axis('model')) \n",
    "results_df[['params', 'rank_test_score', 'mean_test_score', 'std_test_score']]"
   ]
  },
  {
   "cell_type": "markdown",
   "metadata": {},
   "source": [
    "Using multiple hyperparameters did not increase to much the accuracy of the model, maybe a more powerfull model would perform better, a model that takes in to account more features and not only \"PC_2\"."
   ]
  },
  {
   "cell_type": "markdown",
   "metadata": {},
   "source": [
    "### Random Forest classifier model with data frame after PCA transformation with binary target"
   ]
  },
  {
   "cell_type": "code",
   "execution_count": 103,
   "metadata": {},
   "outputs": [
    {
     "name": "stdout",
     "output_type": "stream",
     "text": [
      "Accuracy training score: 0.619743924438643\n",
      "Accuracy testing score: 0.6183783461870589\n",
      "Validation score per folio: [0.61421134 0.61201144 0.62286427 0.61528307 0.61330302]\n",
      "Average validation score: 0.62\n"
     ]
    }
   ],
   "source": [
    "# Create the Random Forest Classifier model\n",
    "clf = RandomForestClassifier(max_depth= 5,random_state=0).fit(X_train, y_train)\n",
    "# Calculate predictions\n",
    "y_train_pred = clf.predict(X_train)\n",
    "y_test_pred = clf.predict(X_test)\n",
    "print(f\"Accuracy training score: {metrics.accuracy_score(y_train, y_train_pred)}\") \n",
    "print(f\"Accuracy testing score: {metrics.accuracy_score(y_test, y_test_pred)}\")\n",
    "cross = cross_val_score(clf, X_train, y_train, cv=5)\n",
    "print(f\"Validation score per folio: {cross}\")\n",
    "print(f\"Average validation score: {round(cross.mean(),2)}\")"
   ]
  },
  {
   "cell_type": "markdown",
   "metadata": {},
   "source": [
    "The random forest model accurately predicts 61% of the testing data. It performs a little worst, but the hyperparameters are not optimized."
   ]
  },
  {
   "cell_type": "code",
   "execution_count": 104,
   "metadata": {},
   "outputs": [
    {
     "data": {
      "image/png": "[encoded data removed]",
      "text/plain": [
       "<Figure size 504x504 with 1 Axes>"
      ]
     },
     "metadata": {
      "needs_background": "light"
     },
     "output_type": "display_data"
    }
   ],
   "source": [
    "# Feature importance for the classifier.\n",
    "feature_importance = clf.feature_importances_\n",
    "feat_importances = pd.Series(feature_importance, index=X_train.columns)\n",
    "feat_importances = feat_importances.nlargest(10)\n",
    "feat_importances.plot(kind='barh' , figsize=(7,7)) \n",
    "plt.xlabel(\"Porcentage of feature importances\")\n",
    "plt.title(\"More relevant features for the random forest model\")\n",
    "plt.show()"
   ]
  },
  {
   "cell_type": "markdown",
   "metadata": {},
   "source": [
    "The feature importance graphic shows that for the random forest model the importance of other features is greater and less unbalanced towards PC_2."
   ]
  },
  {
   "cell_type": "code",
   "execution_count": 105,
   "metadata": {},
   "outputs": [
    {
     "data": {
      "text/plain": [
       "GridSearchCV(estimator=DecisionTreeClassifier(random_state=0),\n",
       "             param_grid={'criterion': ('entropy', 'gini'),\n",
       "                         'max_depth': [3, 5, 7, 9]})"
      ]
     },
     "execution_count": 105,
     "metadata": {},
     "output_type": "execute_result"
    }
   ],
   "source": [
    "parameters = {'criterion':('entropy', 'gini'), 'max_depth':[3,5,7,9]}\n",
    "# Grid search, allow to create multiple models, that we can evaluate and choose\n",
    "clf = GridSearchCV(DecisionTreeClassifier(random_state=0), parameters)\n",
    "clf.fit(X_train, y_train)"
   ]
  },
  {
   "cell_type": "code",
   "execution_count": 106,
   "metadata": {},
   "outputs": [
    {
     "data": {
      "text/html": [
       "<div>\n",
       "<style scoped>\n",
       "    .dataframe tbody tr th:only-of-type {\n",
       "        vertical-align: middle;\n",
       "    }\n",
       "\n",
       "    .dataframe tbody tr th {\n",
       "        vertical-align: top;\n",
       "    }\n",
       "\n",
       "    .dataframe thead th {\n",
       "        text-align: right;\n",
       "    }\n",
       "</style>\n",
       "<table border=\"1\" class=\"dataframe\">\n",
       "  <thead>\n",
       "    <tr style=\"text-align: right;\">\n",
       "      <th></th>\n",
       "      <th>params</th>\n",
       "      <th>rank_test_score</th>\n",
       "      <th>mean_test_score</th>\n",
       "      <th>std_test_score</th>\n",
       "    </tr>\n",
       "    <tr>\n",
       "      <th>model</th>\n",
       "      <th></th>\n",
       "      <th></th>\n",
       "      <th></th>\n",
       "      <th></th>\n",
       "    </tr>\n",
       "  </thead>\n",
       "  <tbody>\n",
       "    <tr>\n",
       "      <th>entropy_5</th>\n",
       "      <td>{'criterion': 'entropy', 'max_depth': 5}</td>\n",
       "      <td>1</td>\n",
       "      <td>0.62</td>\n",
       "      <td>0.00</td>\n",
       "    </tr>\n",
       "    <tr>\n",
       "      <th>gini_5</th>\n",
       "      <td>{'criterion': 'gini', 'max_depth': 5}</td>\n",
       "      <td>2</td>\n",
       "      <td>0.61</td>\n",
       "      <td>0.00</td>\n",
       "    </tr>\n",
       "    <tr>\n",
       "      <th>entropy_3</th>\n",
       "      <td>{'criterion': 'entropy', 'max_depth': 3}</td>\n",
       "      <td>3</td>\n",
       "      <td>0.61</td>\n",
       "      <td>0.00</td>\n",
       "    </tr>\n",
       "    <tr>\n",
       "      <th>gini_3</th>\n",
       "      <td>{'criterion': 'gini', 'max_depth': 3}</td>\n",
       "      <td>3</td>\n",
       "      <td>0.61</td>\n",
       "      <td>0.00</td>\n",
       "    </tr>\n",
       "    <tr>\n",
       "      <th>entropy_7</th>\n",
       "      <td>{'criterion': 'entropy', 'max_depth': 7}</td>\n",
       "      <td>5</td>\n",
       "      <td>0.61</td>\n",
       "      <td>0.00</td>\n",
       "    </tr>\n",
       "    <tr>\n",
       "      <th>gini_7</th>\n",
       "      <td>{'criterion': 'gini', 'max_depth': 7}</td>\n",
       "      <td>6</td>\n",
       "      <td>0.61</td>\n",
       "      <td>0.00</td>\n",
       "    </tr>\n",
       "    <tr>\n",
       "      <th>entropy_9</th>\n",
       "      <td>{'criterion': 'entropy', 'max_depth': 9}</td>\n",
       "      <td>7</td>\n",
       "      <td>0.61</td>\n",
       "      <td>0.01</td>\n",
       "    </tr>\n",
       "    <tr>\n",
       "      <th>gini_9</th>\n",
       "      <td>{'criterion': 'gini', 'max_depth': 9}</td>\n",
       "      <td>8</td>\n",
       "      <td>0.60</td>\n",
       "      <td>0.00</td>\n",
       "    </tr>\n",
       "  </tbody>\n",
       "</table>\n",
       "</div>"
      ],
      "text/plain": [
       "                                             params  rank_test_score  mean_test_score  std_test_score\n",
       "model                                                                                                \n",
       "entropy_5  {'criterion': 'entropy', 'max_depth': 5}                1             0.62            0.00\n",
       "gini_5        {'criterion': 'gini', 'max_depth': 5}                2             0.61            0.00\n",
       "entropy_3  {'criterion': 'entropy', 'max_depth': 3}                3             0.61            0.00\n",
       "gini_3        {'criterion': 'gini', 'max_depth': 3}                3             0.61            0.00\n",
       "entropy_7  {'criterion': 'entropy', 'max_depth': 7}                5             0.61            0.00\n",
       "gini_7        {'criterion': 'gini', 'max_depth': 7}                6             0.61            0.00\n",
       "entropy_9  {'criterion': 'entropy', 'max_depth': 9}                7             0.61            0.01\n",
       "gini_9        {'criterion': 'gini', 'max_depth': 9}                8             0.60            0.00"
      ]
     },
     "execution_count": 106,
     "metadata": {},
     "output_type": "execute_result"
    }
   ],
   "source": [
    "results_df = pd.DataFrame(clf.cv_results_) # create a result with the different models\n",
    "results_df = results_df.sort_values(by=['rank_test_score']) # sort the models by scores\n",
    "results_df = (results_df.set_index(results_df[\"params\"].apply(lambda x: \"_\".join(str(val) for val in x.values())))\n",
    "              .rename_axis('model')) \n",
    "results_df[['params', 'rank_test_score', 'mean_test_score', 'std_test_score']]"
   ]
  },
  {
   "cell_type": "markdown",
   "metadata": {},
   "source": [
    "Using multiple hyperparameters did not increase to much the accuracy of the model, even though this model takes in to account more features and not only \"PC_2\"."
   ]
  },
  {
   "cell_type": "markdown",
   "metadata": {},
   "source": [
    "### Random forest classifier model with data frame without PCA transformation - 108 features"
   ]
  },
  {
   "cell_type": "code",
   "execution_count": 108,
   "metadata": {},
   "outputs": [
    {
     "name": "stdout",
     "output_type": "stream",
     "text": [
      "Accuracy training score: 0.6222518809673966\n",
      "Accuracy testing score: 0.6227257838787482\n",
      "Validation score per folio: [0.61619124 0.61516463 0.62572413 0.61689645 0.61814315]\n",
      "Average validation score: 0.62\n"
     ]
    }
   ],
   "source": [
    "# Create train and test sets to train and measure the performance of the model\n",
    "X_train, X_test, y_train, y_test = train_test_split(df_dum_std.iloc[:,:-2], df_dum_std.readmitted_bi, test_size=0.33,\n",
    "                                                    random_state=42, stratify= df_dum_std.readmitted_bi)\n",
    "# Create the Random Forest Classifier model\n",
    "clf = RandomForestClassifier(max_depth= 5,random_state=0).fit(X_train, y_train)\n",
    "# Calculate predictions\n",
    "y_train_pred = clf.predict(X_train)\n",
    "y_test_pred = clf.predict(X_test)\n",
    "print(f\"Accuracy training score: {metrics.accuracy_score(y_train, y_train_pred)}\") \n",
    "print(f\"Accuracy testing score: {metrics.accuracy_score(y_test, y_test_pred)}\")\n",
    "cross = cross_val_score(clf, X_train, y_train, cv=5)\n",
    "print(f\"Validation score per folio: {cross}\")\n",
    "print(f\"Average validation score: {round(cross.mean(),2)}\")"
   ]
  },
  {
   "cell_type": "code",
   "execution_count": 109,
   "metadata": {},
   "outputs": [
    {
     "data": {
      "image/png": "[encoded data removed]",
      "text/plain": [
       "<Figure size 504x504 with 1 Axes>"
      ]
     },
     "metadata": {
      "needs_background": "light"
     },
     "output_type": "display_data"
    }
   ],
   "source": [
    "# Feature importance for the classifier.\n",
    "feature_importance = clf.feature_importances_\n",
    "feat_importances = pd.Series(feature_importance, index=X_train.columns)\n",
    "feat_importances = feat_importances.nlargest(10)\n",
    "feat_importances.plot(kind='barh' , figsize=(7,7)) \n",
    "plt.xlabel(\"Porcentage of feature importances\")\n",
    "plt.title(\"More relevant features for the decision tree model\")\n",
    "plt.show()"
   ]
  },
  {
   "cell_type": "markdown",
   "metadata": {},
   "source": [
    "The top 5 feature importance goes to 5 numeric variables. This explain why the models are so close to each other, taking into account that the bench mark model only uses the numerical features."
   ]
  },
  {
   "cell_type": "markdown",
   "metadata": {},
   "source": [
    "### Random Forest classifier model with data frame after PCA transformation with non binary target"
   ]
  },
  {
   "cell_type": "code",
   "execution_count": 110,
   "metadata": {},
   "outputs": [],
   "source": [
    "# Create train and test sets to train and measure the performance of the model\n",
    "X_train, X_test, y_train, y_test = train_test_split(df_pca.iloc[:,:-2], df_pca.readmitted, test_size=0.33, random_state=42,\n",
    "                                                        stratify= df_pca.readmitted)"
   ]
  },
  {
   "cell_type": "code",
   "execution_count": 111,
   "metadata": {},
   "outputs": [
    {
     "name": "stdout",
     "output_type": "stream",
     "text": [
      "Accuracy training score: 0.5662115190003373\n",
      "Accuracy testing score: 0.5603728076705476\n",
      "Validation score per folio: [0.55796729 0.56207377 0.56339371 0.55852156 0.56438838]\n",
      "Average validation score: 0.56\n"
     ]
    }
   ],
   "source": [
    "# Create the Random Forest Classifier model\n",
    "clf = RandomForestClassifier(max_depth= 5,random_state=0).fit(X_train, y_train)\n",
    "# Calculate predictions\n",
    "y_train_pred = clf.predict(X_train)\n",
    "y_test_pred = clf.predict(X_test)\n",
    "print(f\"Accuracy training score: {metrics.accuracy_score(y_train, y_train_pred)}\") \n",
    "print(f\"Accuracy testing score: {metrics.accuracy_score(y_test, y_test_pred)}\")\n",
    "cross = cross_val_score(clf, X_train, y_train, cv=5)\n",
    "print(f\"Validation score per folio: {cross}\")\n",
    "print(f\"Average validation score: {round(cross.mean(),2)}\")"
   ]
  },
  {
   "cell_type": "code",
   "execution_count": 112,
   "metadata": {},
   "outputs": [
    {
     "data": {
      "image/png": "[encoded data removed]",
      "text/plain": [
       "<Figure size 504x504 with 1 Axes>"
      ]
     },
     "metadata": {
      "needs_background": "light"
     },
     "output_type": "display_data"
    }
   ],
   "source": [
    "# Feature importance for the classifier.\n",
    "feature_importance = clf.feature_importances_\n",
    "feat_importances = pd.Series(feature_importance, index=X_train.columns)\n",
    "feat_importances = feat_importances.nlargest(10)\n",
    "feat_importances.plot(kind='barh' , figsize=(7,7)) \n",
    "plt.xlabel(\"Porcentage of feature importances\")\n",
    "plt.title(\"More relevant features for the random forest model - non binary target\")\n",
    "plt.show()"
   ]
  },
  {
   "cell_type": "markdown",
   "metadata": {},
   "source": [
    "Trying to predict tree variables reduces in 6% the accuracy of the model. Using a model, that takes into account many features."
   ]
  },
  {
   "cell_type": "markdown",
   "metadata": {},
   "source": [
    "<a href=\"#0\"><font size=\"1\">Back to contents</font></a>\n",
    "\n",
    "### 4. Conclusions<a id=\"con\"></a>"
   ]
  },
  {
   "cell_type": "markdown",
   "metadata": {},
   "source": [
    "1. At first glance the models that included the information from categorical variables did not performe very well. But this can be explain by the fact that many important features as weight were incomplete. Mainly the weight that is highly correlated to the diabetes and many diseases, had a lot of missing values. \n",
    "2. The numerical features were more correlated to the target variable than the categorical features. In a future is suggested to make groups of features and analyze the feature importance to the model. With the goal of selecting the ones more correlated. Diabetes medication was one the categorical variable with high importance to the models, the next step would be start with this feature and combining it to more. For this it is important to use the statsmodels library and make regression and null hypothesis to analyze p-values between features.  \n",
    "3. A causality analysis could help to understand better the readmission rates, due to the fact that the inpatients were in the hospital by many diseases and many diagnoses through different years and different environments (in different states). As is stablished in the paper \"our analysis showed that the profile of readmission differed significantly in patients where Hba1c was checked in the setting of a primary diabetes diagnosis, when compared to those with a primary circulatory disorder. While readmission rates remained the highest for patients with circulatory diagnoses\"\n",
    "4. Using aggregation allows to obtained information from features with high variances and incorporate them to the models. Additionally, using principal component analysis we can represent many features in few transformed ones, this can help to reduce the consumption of resources in projects with many records.  "
   ]
  },
  {
   "cell_type": "markdown",
   "metadata": {},
   "source": [
    "5. Additionally a nearest neighbors technique was utilized with the transformed data set, the results shown that the amount of clusters with the best data differentiation is 12. And if we use a number of clusters of 3 and compare with the target variable the accuracy it is close to 50%, really low.  "
   ]
  },
  {
   "cell_type": "markdown",
   "metadata": {},
   "source": [
    "<a href=\"#0\"><font size=\"1\">Back to contents</font></a>\n",
    "\n",
    "### 5. Additional: Clustering<a id=\"cluster\"></a>"
   ]
  },
  {
   "cell_type": "code",
   "execution_count": 116,
   "metadata": {},
   "outputs": [],
   "source": [
    "# Library used for clustering\n",
    "from sklearn.cluster import KMeans"
   ]
  },
  {
   "cell_type": "markdown",
   "metadata": {},
   "source": [
    "For clustering it was used the data set after being transformed with the principal components. The model used for clustering was K nearest neighbors and the evaluation method used was the Elbow examination. "
   ]
  },
  {
   "cell_type": "code",
   "execution_count": 114,
   "metadata": {},
   "outputs": [],
   "source": [
    "def clustering(X):    \n",
    "    # List - Sum of squared distances \n",
    "    Sum_of_squared_distances = []\n",
    "    # Create a list with possible number of clusters\n",
    "    K = np.arange(2,20)\n",
    "    for k in K:\n",
    "        # Create and train the model\n",
    "        km = KMeans(n_clusters=k, random_state=0).fit(X)\n",
    "        # Calculate medium distance and add it to the sum of squared distances list\n",
    "        total_distance = km.inertia_\n",
    "        medium_distance = np.divide(total_distance, X.shape[0])\n",
    "        Sum_of_squared_distances.append(medium_distance)\n",
    "        \n",
    "    # Graph medium distances against number of clusters\n",
    "    plt.figure(figsize = (10,10))\n",
    "    plt.plot(K, Sum_of_squared_distances, lw=3)\n",
    "    plt.scatter(K, Sum_of_squared_distances,s=55,c='r')\n",
    "    plt.xlabel('Number of clusters K')\n",
    "    plt.ylabel('Inertia ')\n",
    "    plt.title('Elbow method')\n",
    "    plt.show()\n",
    "    \n",
    "    # Elbow method to determine the number of clusters that differentiate better the data\n",
    "    slopes = (np.array(Sum_of_squared_distances[1:]) - np.array(Sum_of_squared_distances[:-1]))\\\n",
    "             / (K[1:] - K[:-1])\n",
    "    slope_relationship = slopes[1:]/ slopes[:-1]\n",
    "    chosen_k = K[np.argmin(slope_relationship) + 1]\n",
    "    \n",
    "    # Train the modle with the chosen K\n",
    "    km = KMeans(n_clusters=chosen_k, random_state=0).fit(X)\n",
    "    \n",
    "    labels = km.labels_ # cluster labels\n",
    "    centroids = km.cluster_centers_ # centroids\n",
    "    \n",
    "    return chosen_k, labels"
   ]
  },
  {
   "cell_type": "code",
   "execution_count": 117,
   "metadata": {},
   "outputs": [
    {
     "data": {
      "image/png": "[encoded data removed]",
      "text/plain": [
       "<Figure size 720x720 with 1 Axes>"
      ]
     },
     "metadata": {
      "needs_background": "light"
     },
     "output_type": "display_data"
    }
   ],
   "source": [
    "chosen_k, labels = clustering(df_pca.iloc[:,:-2])"
   ]
  },
  {
   "cell_type": "code",
   "execution_count": 118,
   "metadata": {},
   "outputs": [
    {
     "data": {
      "text/plain": [
       "12"
      ]
     },
     "execution_count": 118,
     "metadata": {},
     "output_type": "execute_result"
    }
   ],
   "source": [
    "chosen_k"
   ]
  },
  {
   "cell_type": "markdown",
   "metadata": {},
   "source": [
    "12 clusters was the number of clusters calculated that best separates or differentiates the data.  "
   ]
  },
  {
   "cell_type": "code",
   "execution_count": 120,
   "metadata": {},
   "outputs": [
    {
     "data": {
      "text/plain": [
       "10    17646\n",
       "9     14863\n",
       "1     12963\n",
       "0     12110\n",
       "6     11157\n",
       "2      9681\n",
       "7      9015\n",
       "3      5722\n",
       "4      5083\n",
       "11     2253\n",
       "8      1240\n",
       "5        33\n",
       "Name: Cluster, dtype: int64"
      ]
     },
     "execution_count": 120,
     "metadata": {},
     "output_type": "execute_result"
    }
   ],
   "source": [
    "df_pca['Cluster']= labels\n",
    "df_pca['Cluster'].value_counts()"
   ]
  },
  {
   "cell_type": "markdown",
   "metadata": {},
   "source": [
    "The number of records per cluster it is shown in the past cell."
   ]
  },
  {
   "cell_type": "markdown",
   "metadata": {},
   "source": [
    "The best number of clusters that separates the data is 12 but the target variable was filled taking into account 3 conditions, so it is important to compare how is the distribution of the data with a number of clusters equal to 3."
   ]
  },
  {
   "cell_type": "code",
   "execution_count": 127,
   "metadata": {},
   "outputs": [],
   "source": [
    "# Train the modle with the chosen K\n",
    "km = KMeans(n_clusters=3, random_state=0).fit(df_pca.iloc[:,:-3])\n",
    "\n",
    "labels_ = km.labels_ # cluster labels\n",
    "df_pca['Cluster_3']= labels_"
   ]
  },
  {
   "cell_type": "code",
   "execution_count": 128,
   "metadata": {},
   "outputs": [
    {
     "name": "stdout",
     "output_type": "stream",
     "text": [
      "0    54864\n",
      "1    35545\n",
      "2    11357\n",
      "Name: readmitted, dtype: int64\n",
      "1    60897\n",
      "2    31288\n",
      "0     9581\n",
      "Name: Cluster_3, dtype: int64\n"
     ]
    }
   ],
   "source": [
    "print(df_pca['readmitted'].value_counts())\n",
    "print(df_pca['Cluster_3'].value_counts())"
   ]
  },
  {
   "cell_type": "code",
   "execution_count": 129,
   "metadata": {},
   "outputs": [],
   "source": [
    "# Map cluster 3 names in order to have the equivalent proportions for comparisson\n",
    "df_pca['Cluster_3']= df_pca['Cluster_3'].map({1:0,2:1,0:2})"
   ]
  },
  {
   "cell_type": "code",
   "execution_count": 130,
   "metadata": {},
   "outputs": [
    {
     "name": "stdout",
     "output_type": "stream",
     "text": [
      "0    54864\n",
      "1    35545\n",
      "2    11357\n",
      "Name: readmitted, dtype: int64\n",
      "0    60897\n",
      "1    31288\n",
      "2     9581\n",
      "Name: Cluster_3, dtype: int64\n"
     ]
    }
   ],
   "source": [
    "print(df_pca['readmitted'].value_counts())\n",
    "print(df_pca['Cluster_3'].value_counts())"
   ]
  },
  {
   "cell_type": "code",
   "execution_count": 131,
   "metadata": {},
   "outputs": [
    {
     "name": "stdout",
     "output_type": "stream",
     "text": [
      "Accuracy score: 0.49090069374840317\n"
     ]
    }
   ],
   "source": [
    "print(f\"Accuracy score: {metrics.accuracy_score(df_pca['readmitted'], df_pca['Cluster_3'])}\") "
   ]
  }
 ],
 "metadata": {
  "kernelspec": {
   "display_name": "Python 3",
   "language": "python",
   "name": "python3"
  },
  "language_info": {
   "codemirror_mode": {
    "name": "ipython",
    "version": 3
   },
   "file_extension": ".py",
   "mimetype": "text/x-python",
   "name": "python",
   "nbconvert_exporter": "python",
   "pygments_lexer": "ipython3",
   "version": "3.8.5"
  }
 },
 "nbformat": 4,
 "nbformat_minor": 4
}
